{
  "nbformat": 4,
  "nbformat_minor": 0,
  "metadata": {
    "kernelspec": {
      "display_name": "Python 3",
      "language": "python",
      "name": "python3"
    },
    "language_info": {
      "codemirror_mode": {
        "name": "ipython",
        "version": 3
      },
      "file_extension": ".py",
      "mimetype": "text/x-python",
      "name": "python",
      "nbconvert_exporter": "python",
      "pygments_lexer": "ipython3",
      "version": "3.5.1"
    },
    "colab": {
      "name": "Seminar1Arithmetics.ipynb",
      "version": "0.3.2",
      "provenance": [],
      "collapsed_sections": []
    }
  },
  "cells": [
    {
      "cell_type": "markdown",
      "metadata": {
        "id": "dAcMijwWWGAJ",
        "colab_type": "text"
      },
      "source": [
        "# Организационные моменты\n",
        "\n",
        "<b>Wiki курса</b>: http://wiki.cs.hse.ru/%D0%9E%D1%81%D0%BD%D0%BE%D0%B2%D1%8B_%D0%B8_%D0%BC%D0%B5%D1%82%D0%BE%D0%B4%D0%BE%D0%BB%D0%BE%D0%B3%D0%B8%D1%8F_%D0%BF%D1%80%D0%BE%D0%B3%D1%80%D0%B0%D0%BC%D0%BC%D0%B8%D1%80%D0%BE%D0%B2%D0%B0%D0%BD%D0%B8%D1%8F_1_2019/2020\n",
        "\n",
        "<b>Установка интерпретатора Python (версия 3.7.4)</b>:\n",
        "https://www.python.org/downloads/release/python-374/\n",
        "\n",
        "<b>(рекомендуем для вашего удобства) Установка IDE Jetbrains PyCharm</b>: https://www.jetbrains.com/pycharm/download/\n",
        "\n",
        "<b>Контест №1 (Арифметика)</b>: https://contest.yandex.ru/contest/13823\n",
        "\n",
        "<b>Дедлайн</b>: 22.09.2019 13:40:00\n",
        "\n",
        "<b>Убедитесь, что у вас есть доступ!</b>\n"
      ]
    },
    {
      "cell_type": "code",
      "metadata": {
        "id": "AJiwRUBjWGAK",
        "colab_type": "code",
        "outputId": "01c273d4-b940-46e6-aea5-fb0163e1eaaf",
        "colab": {
          "base_uri": "https://localhost:8080/",
          "height": 34
        }
      },
      "source": [
        "# Поприветствуем этот мир!\n",
        "print(\"Привет, пешка Густокашина\")"
      ],
      "execution_count": 0,
      "outputs": [
        {
          "output_type": "stream",
          "text": [
            "Привет, пешка Густокашина\n"
          ],
          "name": "stdout"
        }
      ]
    },
    {
      "cell_type": "code",
      "metadata": {
        "id": "9yYjiuOlZRLC",
        "colab_type": "code",
        "colab": {}
      },
      "source": [
        "# Это - однострочный комментарий.  Его содержимое игнорируется при компиляции\n"
      ],
      "execution_count": 0,
      "outputs": []
    },
    {
      "cell_type": "code",
      "metadata": {
        "id": "eW69atPHZivz",
        "colab_type": "code",
        "outputId": "2a1c05ea-e8d5-48b7-f2f5-2272d3fbcd02",
        "colab": {
          "base_uri": "https://localhost:8080/",
          "height": 34
        }
      },
      "source": [
        "'''\n",
        "Это - многострочный комментарий.\n",
        "Вернее, строковый литерал\n",
        "'''"
      ],
      "execution_count": 0,
      "outputs": [
        {
          "output_type": "execute_result",
          "data": {
            "text/plain": [
              "'\\nЭто - многострочный комментарий.\\nВернее, строковый литерал\\n'"
            ]
          },
          "metadata": {
            "tags": []
          },
          "execution_count": 2
        }
      ]
    },
    {
      "cell_type": "markdown",
      "metadata": {
        "collapsed": true,
        "id": "UzeE8x3CWGAP",
        "colab_type": "text"
      },
      "source": [
        "# Режим калькулятора"
      ]
    },
    {
      "cell_type": "code",
      "metadata": {
        "id": "3Zx_6PY4WGAR",
        "colab_type": "code",
        "outputId": "cdba22e9-7d4f-4ffd-f676-be3bf0242ff5",
        "colab": {
          "base_uri": "https://localhost:8080/",
          "height": 34
        }
      },
      "source": [
        " # Питон позволяет использовать все основные математические операции\n",
        "# Сложение\n",
        "2 + 2"
      ],
      "execution_count": 0,
      "outputs": [
        {
          "output_type": "execute_result",
          "data": {
            "text/plain": [
              "4"
            ]
          },
          "metadata": {
            "tags": []
          },
          "execution_count": 3
        }
      ]
    },
    {
      "cell_type": "code",
      "metadata": {
        "id": "PI-8YTGiWGAV",
        "colab_type": "code",
        "outputId": "9b1d670a-351a-48df-a7fa-cfd65f3b04b3",
        "colab": {
          "base_uri": "https://localhost:8080/",
          "height": 34
        }
      },
      "source": [
        "# Вычитание\n",
        "7 - 3"
      ],
      "execution_count": 0,
      "outputs": [
        {
          "output_type": "execute_result",
          "data": {
            "text/plain": [
              "4"
            ]
          },
          "metadata": {
            "tags": []
          },
          "execution_count": 4
        }
      ]
    },
    {
      "cell_type": "code",
      "metadata": {
        "id": "vZJi19w6WGAZ",
        "colab_type": "code",
        "outputId": "a97b1f78-532e-4ce2-918d-50f54b3a9ed9",
        "colab": {
          "base_uri": "https://localhost:8080/",
          "height": 34
        }
      },
      "source": [
        "# Сложение и умножение\n",
        "3 + 7 * 9"
      ],
      "execution_count": 0,
      "outputs": [
        {
          "output_type": "execute_result",
          "data": {
            "text/plain": [
              "66"
            ]
          },
          "metadata": {
            "tags": []
          },
          "execution_count": 5
        }
      ]
    },
    {
      "cell_type": "code",
      "metadata": {
        "id": "N_mEc2ASWGAc",
        "colab_type": "code",
        "outputId": "4265c745-fb96-4142-f2bb-dec80692e715",
        "colab": {
          "base_uri": "https://localhost:8080/",
          "height": 34
        }
      },
      "source": [
        "# В арифметических выражениях также можно использовать круглые скобки. \n",
        "# Их смысл такой же как и в математике - соблюдение очередности вычислений\n",
        "(2 + 2) * 2"
      ],
      "execution_count": 0,
      "outputs": [
        {
          "output_type": "execute_result",
          "data": {
            "text/plain": [
              "8"
            ]
          },
          "metadata": {
            "tags": []
          },
          "execution_count": 6
        }
      ]
    },
    {
      "cell_type": "code",
      "metadata": {
        "id": "ZItMMB86WGAf",
        "colab_type": "code",
        "outputId": "264385f3-6a97-4ecb-9fac-d124c527b939",
        "colab": {
          "base_uri": "https://localhost:8080/",
          "height": 34
        }
      },
      "source": [
        "2 + 2 * 2"
      ],
      "execution_count": 0,
      "outputs": [
        {
          "output_type": "execute_result",
          "data": {
            "text/plain": [
              "6"
            ]
          },
          "metadata": {
            "tags": []
          },
          "execution_count": 7
        }
      ]
    },
    {
      "cell_type": "code",
      "metadata": {
        "id": "FFpdvu7aWGAh",
        "colab_type": "code",
        "outputId": "1e558190-444d-48f8-e5aa-2771b8e964f8",
        "colab": {
          "base_uri": "https://localhost:8080/",
          "height": 34
        }
      },
      "source": [
        "# Существует два вида деления в питоне\n",
        "# Классическое деление (division)\n",
        "5 / 4"
      ],
      "execution_count": 0,
      "outputs": [
        {
          "output_type": "execute_result",
          "data": {
            "text/plain": [
              "1.25"
            ]
          },
          "metadata": {
            "tags": []
          },
          "execution_count": 8
        }
      ]
    },
    {
      "cell_type": "code",
      "metadata": {
        "id": "8-yXnaGeWGAl",
        "colab_type": "code",
        "outputId": "515b6d82-1662-4134-ff12-5e4e6e5b3704",
        "colab": {
          "base_uri": "https://localhost:8080/",
          "height": 34
        }
      },
      "source": [
        "# Деление нацело (floor division)\n",
        "5 // 4"
      ],
      "execution_count": 0,
      "outputs": [
        {
          "output_type": "execute_result",
          "data": {
            "text/plain": [
              "1"
            ]
          },
          "metadata": {
            "tags": []
          },
          "execution_count": 9
        }
      ]
    },
    {
      "cell_type": "code",
      "metadata": {
        "id": "sO_29cOBWGAo",
        "colab_type": "code",
        "outputId": "51bf3b16-b17b-400b-d662-a0fa2a329e6d",
        "colab": {
          "base_uri": "https://localhost:8080/",
          "height": 34
        }
      },
      "source": [
        "7 / 10"
      ],
      "execution_count": 0,
      "outputs": [
        {
          "output_type": "execute_result",
          "data": {
            "text/plain": [
              "0.7"
            ]
          },
          "metadata": {
            "tags": []
          },
          "execution_count": 10
        }
      ]
    },
    {
      "cell_type": "code",
      "metadata": {
        "id": "x9YGEe3HaWVz",
        "colab_type": "code",
        "outputId": "3974820e-096c-4280-be33-436f2ec0adae",
        "colab": {
          "base_uri": "https://localhost:8080/",
          "height": 34
        }
      },
      "source": [
        "7 // 10"
      ],
      "execution_count": 0,
      "outputs": [
        {
          "output_type": "execute_result",
          "data": {
            "text/plain": [
              "0"
            ]
          },
          "metadata": {
            "tags": []
          },
          "execution_count": 11
        }
      ]
    },
    {
      "cell_type": "code",
      "metadata": {
        "id": "MqPoQmYLaYZG",
        "colab_type": "code",
        "outputId": "df05bd86-55dd-49b9-a268-232ed3565f75",
        "colab": {
          "base_uri": "https://localhost:8080/",
          "height": 34
        }
      },
      "source": [
        "-5 / 2"
      ],
      "execution_count": 0,
      "outputs": [
        {
          "output_type": "execute_result",
          "data": {
            "text/plain": [
              "-2.5"
            ]
          },
          "metadata": {
            "tags": []
          },
          "execution_count": 12
        }
      ]
    },
    {
      "cell_type": "code",
      "metadata": {
        "id": "VZpCzS3paa80",
        "colab_type": "code",
        "outputId": "c4479d21-8e85-4f2e-b3c9-22bc92046480",
        "colab": {
          "base_uri": "https://localhost:8080/",
          "height": 34
        }
      },
      "source": [
        "-5 // 2"
      ],
      "execution_count": 0,
      "outputs": [
        {
          "output_type": "execute_result",
          "data": {
            "text/plain": [
              "-3"
            ]
          },
          "metadata": {
            "tags": []
          },
          "execution_count": 13
        }
      ]
    },
    {
      "cell_type": "code",
      "metadata": {
        "id": "aVlsXXgXWGAq",
        "colab_type": "code",
        "outputId": "3bc995a2-2570-4543-ef22-9d38334cddf6",
        "colab": {
          "base_uri": "https://localhost:8080/",
          "height": 34
        }
      },
      "source": [
        "# Также возможно взятие отстатка от деления (modulus)\n",
        "3 % 2"
      ],
      "execution_count": 0,
      "outputs": [
        {
          "output_type": "execute_result",
          "data": {
            "text/plain": [
              "1"
            ]
          },
          "metadata": {
            "tags": []
          },
          "execution_count": 14
        }
      ]
    },
    {
      "cell_type": "code",
      "metadata": {
        "id": "9hLbcRXDWGAu",
        "colab_type": "code",
        "outputId": "3faf4260-f9ab-4d43-d41b-2a2eb3a87542",
        "colab": {
          "base_uri": "https://localhost:8080/",
          "height": 34
        }
      },
      "source": [
        "-5 % 2"
      ],
      "execution_count": 0,
      "outputs": [
        {
          "output_type": "execute_result",
          "data": {
            "text/plain": [
              "1"
            ]
          },
          "metadata": {
            "tags": []
          },
          "execution_count": 15
        }
      ]
    },
    {
      "cell_type": "code",
      "metadata": {
        "id": "8tiakwQwaqLC",
        "colab_type": "code",
        "outputId": "0ea7f59c-5e51-4493-e07c-070bafa4d042",
        "colab": {
          "base_uri": "https://localhost:8080/",
          "height": 34
        }
      },
      "source": [
        "abs(-5 // 2 * 2 - (-5))"
      ],
      "execution_count": 0,
      "outputs": [
        {
          "output_type": "execute_result",
          "data": {
            "text/plain": [
              "1"
            ]
          },
          "metadata": {
            "tags": []
          },
          "execution_count": 16
        }
      ]
    },
    {
      "cell_type": "code",
      "metadata": {
        "id": "c115ZjvtWGAy",
        "colab_type": "code",
        "outputId": "5a082c17-c328-4032-fabb-5252f78f0622",
        "colab": {
          "base_uri": "https://localhost:8080/",
          "height": 34
        }
      },
      "source": [
        "# Возведение в степень\n",
        "2 ** 4"
      ],
      "execution_count": 0,
      "outputs": [
        {
          "output_type": "execute_result",
          "data": {
            "text/plain": [
              "16"
            ]
          },
          "metadata": {
            "tags": []
          },
          "execution_count": 17
        }
      ]
    },
    {
      "cell_type": "code",
      "metadata": {
        "id": "cD8NesUzWGA0",
        "colab_type": "code",
        "outputId": "7fc50f2e-2fa9-4343-a176-7fc01a11caed",
        "colab": {
          "base_uri": "https://localhost:8080/",
          "height": 34
        }
      },
      "source": [
        "3 ** 0.5"
      ],
      "execution_count": 0,
      "outputs": [
        {
          "output_type": "execute_result",
          "data": {
            "text/plain": [
              "1.7320508075688772"
            ]
          },
          "metadata": {
            "tags": []
          },
          "execution_count": 18
        }
      ]
    },
    {
      "cell_type": "code",
      "metadata": {
        "id": "9VAxEjKYWGA3",
        "colab_type": "code",
        "outputId": "37c000b8-c351-42bd-df9a-ea0de0618c07",
        "colab": {
          "base_uri": "https://localhost:8080/",
          "height": 34
        }
      },
      "source": [
        "4 ** 100"
      ],
      "execution_count": 0,
      "outputs": [
        {
          "output_type": "execute_result",
          "data": {
            "text/plain": [
              "1606938044258990275541962092341162602522202993782792835301376"
            ]
          },
          "metadata": {
            "tags": []
          },
          "execution_count": 19
        }
      ]
    },
    {
      "cell_type": "code",
      "metadata": {
        "id": "UDiPXKaKcPs8",
        "colab_type": "code",
        "outputId": "37931ec2-d1d5-4937-ee6c-608943d32f94",
        "colab": {
          "base_uri": "https://localhost:8080/",
          "height": 34
        }
      },
      "source": [
        "4 ** -2"
      ],
      "execution_count": 0,
      "outputs": [
        {
          "output_type": "execute_result",
          "data": {
            "text/plain": [
              "0.0625"
            ]
          },
          "metadata": {
            "tags": []
          },
          "execution_count": 20
        }
      ]
    },
    {
      "cell_type": "code",
      "metadata": {
        "id": "BJ1pwLYNWGA5",
        "colab_type": "code",
        "outputId": "bf8f7d6f-3e74-42da-e286-be7f62b24746",
        "colab": {
          "base_uri": "https://localhost:8080/",
          "height": 34
        }
      },
      "source": [
        "# Питон умеет оперировать не только целыми (тип int), но и рациональными числами (тип float)\n",
        "# Рациональные числа записываются с использованием точки для разделения целой и дробной части\n",
        "2.7 * 5.6"
      ],
      "execution_count": 0,
      "outputs": [
        {
          "output_type": "execute_result",
          "data": {
            "text/plain": [
              "15.12"
            ]
          },
          "metadata": {
            "tags": []
          },
          "execution_count": 21
        }
      ]
    },
    {
      "cell_type": "code",
      "metadata": {
        "id": "RPVBVfysWGA8",
        "colab_type": "code",
        "outputId": "a1a18aa3-727e-4405-ee2c-8594daf9de83",
        "colab": {
          "base_uri": "https://localhost:8080/",
          "height": 34
        }
      },
      "source": [
        "2.71 ** 3.14"
      ],
      "execution_count": 0,
      "outputs": [
        {
          "output_type": "execute_result",
          "data": {
            "text/plain": [
              "22.883559193263366"
            ]
          },
          "metadata": {
            "tags": []
          },
          "execution_count": 22
        }
      ]
    },
    {
      "cell_type": "code",
      "metadata": {
        "id": "uJ-Kv4IfdGlO",
        "colab_type": "code",
        "outputId": "5fed6ea9-3d5e-4a0e-fa98-428d84bb0f43",
        "colab": {
          "base_uri": "https://localhost:8080/",
          "height": 34
        }
      },
      "source": [
        "6.14 / 2.71"
      ],
      "execution_count": 0,
      "outputs": [
        {
          "output_type": "execute_result",
          "data": {
            "text/plain": [
              "2.265682656826568"
            ]
          },
          "metadata": {
            "tags": []
          },
          "execution_count": 23
        }
      ]
    },
    {
      "cell_type": "code",
      "metadata": {
        "id": "_GqsQI53cYCP",
        "colab_type": "code",
        "outputId": "6eb9bc34-aa96-4835-dd06-941afec4b954",
        "colab": {
          "base_uri": "https://localhost:8080/",
          "height": 34
        }
      },
      "source": [
        "6.14 // 2.71"
      ],
      "execution_count": 0,
      "outputs": [
        {
          "output_type": "execute_result",
          "data": {
            "text/plain": [
              "2.0"
            ]
          },
          "metadata": {
            "tags": []
          },
          "execution_count": 24
        }
      ]
    },
    {
      "cell_type": "code",
      "metadata": {
        "id": "JlJ-4cbec_OP",
        "colab_type": "code",
        "outputId": "29355abd-e1d9-4546-f0fb-5fa39eb6d7b3",
        "colab": {
          "base_uri": "https://localhost:8080/",
          "height": 34
        }
      },
      "source": [
        "6.14 % 2.71"
      ],
      "execution_count": 0,
      "outputs": [
        {
          "output_type": "execute_result",
          "data": {
            "text/plain": [
              "0.7199999999999998"
            ]
          },
          "metadata": {
            "tags": []
          },
          "execution_count": 25
        }
      ]
    },
    {
      "cell_type": "code",
      "metadata": {
        "id": "P7oVZ6sFdU3c",
        "colab_type": "code",
        "outputId": "366dd30d-91f0-461d-abc6-6c2ff5204478",
        "colab": {
          "base_uri": "https://localhost:8080/",
          "height": 34
        }
      },
      "source": [
        "2 * 2.71 + 0.72"
      ],
      "execution_count": 0,
      "outputs": [
        {
          "output_type": "execute_result",
          "data": {
            "text/plain": [
              "6.14"
            ]
          },
          "metadata": {
            "tags": []
          },
          "execution_count": 26
        }
      ]
    },
    {
      "cell_type": "markdown",
      "metadata": {
        "id": "v_-v49ueWGA-",
        "colab_type": "text"
      },
      "source": [
        "# Переменные"
      ]
    },
    {
      "cell_type": "code",
      "metadata": {
        "id": "LhZcMtwGWGA_",
        "colab_type": "code",
        "colab": {}
      },
      "source": [
        "# Питон обладает динамической типизацией\n",
        "# Это означает, что нет необходимости указывать тип переменной. Достаточно просто присвоить ей какое-то значение\n",
        "# Питон сам создаст переменную и запишет в нее нужное значение\n",
        "a = 2.71"
      ],
      "execution_count": 0,
      "outputs": []
    },
    {
      "cell_type": "code",
      "metadata": {
        "id": "lRF0ghbDWGBC",
        "colab_type": "code",
        "outputId": "3f6403d4-c80b-43f0-9517-bdef2e2cf30d",
        "colab": {
          "base_uri": "https://localhost:8080/",
          "height": 162
        }
      },
      "source": [
        "# Переменная всегда должна быть чем-то определена (в ней должно содержаться какое-то значение) \n",
        "b"
      ],
      "execution_count": 0,
      "outputs": [
        {
          "output_type": "error",
          "ename": "NameError",
          "evalue": "ignored",
          "traceback": [
            "\u001b[0;31m---------------------------------------------------------------------------\u001b[0m",
            "\u001b[0;31mNameError\u001b[0m                                 Traceback (most recent call last)",
            "\u001b[0;32m<ipython-input-28-89e6c98d9288>\u001b[0m in \u001b[0;36m<module>\u001b[0;34m()\u001b[0m\n\u001b[0;32m----> 1\u001b[0;31m \u001b[0mb\u001b[0m\u001b[0;34m\u001b[0m\u001b[0;34m\u001b[0m\u001b[0m\n\u001b[0m",
            "\u001b[0;31mNameError\u001b[0m: name 'b' is not defined"
          ]
        }
      ]
    },
    {
      "cell_type": "code",
      "metadata": {
        "id": "sazcGMOqd7f7",
        "colab_type": "code",
        "colab": {}
      },
      "source": [
        "# Если очень хочется сделать переменную пустой, можно присвоить значение None\n",
        "b = None"
      ],
      "execution_count": 0,
      "outputs": []
    },
    {
      "cell_type": "code",
      "metadata": {
        "id": "cI0KrGXAWGBE",
        "colab_type": "code",
        "colab": {}
      },
      "source": [
        "# Числа - далеко не единственное, что можно записывать в переменные\n",
        "# К примеру, можно использовать строки, булевы переменные, комплексные числа и тд\n",
        "\n",
        "a = \"Python\" # Строка\n",
        "b = True # Булево значение \"Истина\"\n",
        "c = False # Булево значение \"Ложь\"\n",
        "d = 2 + 3j # Комплексное число"
      ],
      "execution_count": 0,
      "outputs": []
    },
    {
      "cell_type": "code",
      "metadata": {
        "id": "vlIIWoldWGBI",
        "colab_type": "code",
        "colab": {}
      },
      "source": [
        "# Чтобы узнать, какой тип у переменной, необходимо применить функцию type\n",
        "type(a)"
      ],
      "execution_count": 0,
      "outputs": []
    },
    {
      "cell_type": "code",
      "metadata": {
        "id": "FPP-lJEbWGBO",
        "colab_type": "code",
        "colab": {}
      },
      "source": [
        "type(b)"
      ],
      "execution_count": 0,
      "outputs": []
    },
    {
      "cell_type": "code",
      "metadata": {
        "id": "BhlMBRPhWGBQ",
        "colab_type": "code",
        "colab": {}
      },
      "source": [
        "type(d)"
      ],
      "execution_count": 0,
      "outputs": []
    },
    {
      "cell_type": "code",
      "metadata": {
        "id": "b5RxcuoeeSEE",
        "colab_type": "code",
        "colab": {}
      },
      "source": [
        "type(2.71)"
      ],
      "execution_count": 0,
      "outputs": []
    },
    {
      "cell_type": "code",
      "metadata": {
        "id": "k17FuAcefN8V",
        "colab_type": "code",
        "colab": {}
      },
      "source": [
        "type(2)"
      ],
      "execution_count": 0,
      "outputs": []
    },
    {
      "cell_type": "code",
      "metadata": {
        "id": "LCdecjq6fSdh",
        "colab_type": "code",
        "colab": {}
      },
      "source": [
        "type(None)"
      ],
      "execution_count": 0,
      "outputs": []
    },
    {
      "cell_type": "code",
      "metadata": {
        "id": "RnYMuwyHWGBS",
        "colab_type": "code",
        "colab": {}
      },
      "source": [
        "type(type(a))"
      ],
      "execution_count": 0,
      "outputs": []
    },
    {
      "cell_type": "code",
      "metadata": {
        "id": "9mvBb18AWGBb",
        "colab_type": "code",
        "colab": {}
      },
      "source": [
        "# Часто работает приведение типа - перевод из одного типа в другой\n",
        "a = 5.3\n",
        "b = int(a) # Приведение к целому числу\n",
        "b"
      ],
      "execution_count": 0,
      "outputs": []
    },
    {
      "cell_type": "code",
      "metadata": {
        "id": "pV2RpIQXWGBd",
        "colab_type": "code",
        "colab": {}
      },
      "source": [
        "a = str(23) # Приведение к строке \"23\"\n",
        "type(a)"
      ],
      "execution_count": 0,
      "outputs": []
    },
    {
      "cell_type": "code",
      "metadata": {
        "id": "i6D9Nr_yWGBg",
        "colab_type": "code",
        "colab": {}
      },
      "source": [
        "a = int(\"123\") # Преобразование строки к числу\n",
        "b = a + 7\n",
        "b"
      ],
      "execution_count": 0,
      "outputs": []
    },
    {
      "cell_type": "code",
      "metadata": {
        "id": "_uQCI1JrWGBi",
        "colab_type": "code",
        "colab": {}
      },
      "source": [
        "a = float(\"23.56\")\n",
        "b = a * 2\n",
        "b"
      ],
      "execution_count": 0,
      "outputs": []
    },
    {
      "cell_type": "code",
      "metadata": {
        "id": "1WIt8E3pWGBl",
        "colab_type": "code",
        "colab": {}
      },
      "source": [
        "# Операторы-инкременты: +=, *=, -=, /= ...\n",
        "# Они позволяют изменять значение переменной\n",
        "\n",
        "a = 10\n",
        "a += 5\n",
        "a = a + 5 # идентичные строки\n",
        "a"
      ],
      "execution_count": 0,
      "outputs": []
    },
    {
      "cell_type": "code",
      "metadata": {
        "id": "15DHG0pbWGBp",
        "colab_type": "code",
        "colab": {}
      },
      "source": [
        "a = int(\"Пять\") # Пример, когда приведение не определено"
      ],
      "execution_count": 0,
      "outputs": []
    },
    {
      "cell_type": "code",
      "metadata": {
        "id": "dr8491ycWGBs",
        "colab_type": "code",
        "colab": {}
      },
      "source": [
        "# Однако не обязательно ограничиваться только числами, записанными в десятичной системе счисления\n",
        "# Для указания системы счисления, нужно передать соответствующиее число вторым аргументом\n",
        "a = int(\"FF\", 16) # Перевод 16-ричного FF в число 255\n",
        "a"
      ],
      "execution_count": 0,
      "outputs": []
    },
    {
      "cell_type": "code",
      "metadata": {
        "id": "9-NkNYhtWGBy",
        "colab_type": "code",
        "colab": {}
      },
      "source": [
        "a = int(\"AB12\", 13)\n",
        "a"
      ],
      "execution_count": 0,
      "outputs": []
    },
    {
      "cell_type": "code",
      "metadata": {
        "id": "Rz0WzippWGB0",
        "colab_type": "code",
        "colab": {}
      },
      "source": [
        "a = int(\"9\", 6) # 9 не является числом, записанным в 6-ричной системе счисления"
      ],
      "execution_count": 0,
      "outputs": []
    },
    {
      "cell_type": "code",
      "metadata": {
        "id": "N2mxID5HhUIO",
        "colab_type": "code",
        "colab": {}
      },
      "source": [
        "# Приведение булевых значений\n",
        "a = int(True)\n",
        "b = int(False)"
      ],
      "execution_count": 0,
      "outputs": []
    },
    {
      "cell_type": "code",
      "metadata": {
        "id": "yV3LOIAsh3RR",
        "colab_type": "code",
        "colab": {}
      },
      "source": [
        "a"
      ],
      "execution_count": 0,
      "outputs": []
    },
    {
      "cell_type": "code",
      "metadata": {
        "id": "8ttuWEq3h5IY",
        "colab_type": "code",
        "colab": {}
      },
      "source": [
        "b"
      ],
      "execution_count": 0,
      "outputs": []
    },
    {
      "cell_type": "markdown",
      "metadata": {
        "id": "mXPZujfCh7J1",
        "colab_type": "text"
      },
      "source": [
        "# Операторы вводы и вывода"
      ]
    },
    {
      "cell_type": "code",
      "metadata": {
        "id": "kppNduGYWGB2",
        "colab_type": "code",
        "colab": {}
      },
      "source": [
        "# Оператор стандартного вывода (на экран) - print\n",
        "a = 2018\n",
        "print(a)\n",
        "b = \"блэт нэвэльный\"\n",
        "print(b)\n",
        "c = True\n",
        "print(c)\n",
        "d = None\n",
        "print(d)"
      ],
      "execution_count": 0,
      "outputs": []
    },
    {
      "cell_type": "code",
      "metadata": {
        "id": "_NodPYlmWGB4",
        "colab_type": "code",
        "colab": {}
      },
      "source": [
        "# Также в print можно передавать переменные через запятую и они все будут выведены по порядку\n",
        "print(a, b, c, d)"
      ],
      "execution_count": 0,
      "outputs": []
    },
    {
      "cell_type": "code",
      "metadata": {
        "id": "ZHgKJHbTWGB6",
        "colab_type": "code",
        "colab": {}
      },
      "source": [
        "# Чтобы вывести их не в одной строчке, а каждую переменную на отдельной строчке, необходимо это указать, передав\n",
        "# функции print последний аргумент sep = '\\n'\n",
        "print(a, b, c, d, sep='\\n')"
      ],
      "execution_count": 0,
      "outputs": []
    },
    {
      "cell_type": "code",
      "metadata": {
        "id": "tkQ__mvXWGCB",
        "colab_type": "code",
        "colab": {}
      },
      "source": [
        "# Вместо '\\n' можно передать любую строчку, которую вы хотите видеть между переменными\n",
        "print(a, b, c, d, sep=' ! ')"
      ],
      "execution_count": 0,
      "outputs": []
    },
    {
      "cell_type": "code",
      "metadata": {
        "id": "GRpsU34PWGCE",
        "colab_type": "code",
        "colab": {}
      },
      "source": [
        "# Также можно использовать форматирование для более удобного вывода\n",
        "print(\"{0} + {1} = {2}\".format(5, 4, 9)) # Элементы в фигурных скобках заменяются на соответствующие аргументы\n",
        "print(\"{number} груш {varieties} по цене {cost}$\".format(number=7, varieties=\"Дюшес\", cost=5.6))\n",
        "# В функцию форматирования можно передавать значения любых типов"
      ],
      "execution_count": 0,
      "outputs": []
    },
    {
      "cell_type": "code",
      "metadata": {
        "id": "hYYaNCEGjUWv",
        "colab_type": "code",
        "colab": {}
      },
      "source": [
        "# Еще один способ форматного вывода\n",
        "print(\"%d + %d = %d\" % (5, 4, 9))\n",
        "print(\"%d груш %s по цене %.2f\" % (7, \"Дюшес\", 5.698))"
      ],
      "execution_count": 0,
      "outputs": []
    },
    {
      "cell_type": "markdown",
      "metadata": {
        "id": "SfmyespauxxD",
        "colab_type": "text"
      },
      "source": [
        "# Полезная информация напоследок\n",
        "\n",
        "<b>https://docs.python.org/3/reference/</b> - документация Python\n",
        "\n",
        "<b>https://www.python.org/dev/peps/pep-0008/</b> - PEP8 (пригодится для контеста)\n",
        "\n"
      ]
    },
    {
      "cell_type": "code",
      "metadata": {
        "id": "miJB-eaBvAWV",
        "colab_type": "code",
        "colab": {}
      },
      "source": [
        "import this"
      ],
      "execution_count": 0,
      "outputs": []
    },
    {
      "cell_type": "code",
      "metadata": {
        "id": "s5S26hXZvIgG",
        "colab_type": "code",
        "colab": {}
      },
      "source": [
        ""
      ],
      "execution_count": 0,
      "outputs": []
    }
  ]
}