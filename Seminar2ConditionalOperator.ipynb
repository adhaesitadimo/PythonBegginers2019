{
  "nbformat": 4,
  "nbformat_minor": 0,
  "metadata": {
    "colab": {
      "name": "Seminar2ConditionalOperator.ipynb",
      "version": "0.3.2",
      "provenance": []
    },
    "kernelspec": {
      "name": "python3",
      "display_name": "Python 3"
    }
  },
  "cells": [
    {
      "cell_type": "markdown",
      "metadata": {
        "id": "ebwE-iFhnaWv",
        "colab_type": "text"
      },
      "source": [
        "# Традиционное напоминание\n",
        "\n",
        "<b>Контест 2</b>: https://contest.yandex.ru/contest/13865\n",
        "\n",
        "до <b>22.09.2019 15:10</b>\n",
        "\n",
        "<b>https://docs.python.org/3/reference/</b>\n",
        "\n",
        "<b>https://www.python.org/dev/peps/pep-0008/</b>"
      ]
    },
    {
      "cell_type": "markdown",
      "metadata": {
        "id": "-j3Xf3IoWGCH",
        "colab_type": "text"
      },
      "source": [
        "# Условный оператор"
      ]
    },
    {
      "cell_type": "code",
      "metadata": {
        "id": "y9Rt-cJztXU3",
        "colab_type": "code",
        "outputId": "ab311b61-90e3-472c-fc13-639d3c0b3b2d",
        "colab": {
          "base_uri": "https://localhost:8080/",
          "height": 119
        }
      },
      "source": [
        "# Подобно арифметическим операторам, в Python существуют операторы сравнения\n",
        "a = 5\n",
        "b = 7\n",
        "\n",
        "# Результат выполнения сравнения - булевый (True или False)\n",
        "print(a > b)\n",
        "print(a < b)\n",
        "print(a == b)\n",
        "print(a != b)\n",
        "print(a >= b)\n",
        "print(a <= b)"
      ],
      "execution_count": 0,
      "outputs": [
        {
          "output_type": "stream",
          "text": [
            "False\n",
            "True\n",
            "False\n",
            "True\n",
            "False\n",
            "True\n"
          ],
          "name": "stdout"
        }
      ]
    },
    {
      "cell_type": "code",
      "metadata": {
        "id": "hUzddFXwWGCI",
        "colab_type": "code",
        "outputId": "3a53dded-23be-4bdd-939c-8c108374a6bd",
        "colab": {
          "base_uri": "https://localhost:8080/",
          "height": 34
        }
      },
      "source": [
        "# Для управления поведением программы в Питоне существует условный оператор if\n",
        "\n",
        "# после if необходимо записать условие перехода\n",
        "# если условие оказывается истинным, управление переходит к коду, написанному под данными if\n",
        "# в противном случае, проверяется следующиее условие в конструкции до того момента, пока или не найдется \n",
        "# истинное условие или не достигнется оператор else. \n",
        "if 2 > 5:\n",
        "    print(\"Два больше, чем пять\")\n",
        "elif 2 < 5:\n",
        "    print(\"Два меньше, чем пять\")\n",
        "else:\n",
        "    print(\"Два равно пяти\")"
      ],
      "execution_count": 0,
      "outputs": [
        {
          "output_type": "stream",
          "text": [
            "Два меньше, чем пять\n"
          ],
          "name": "stdout"
        }
      ]
    },
    {
      "cell_type": "code",
      "metadata": {
        "id": "q9pavNmJWGCK",
        "colab_type": "code",
        "outputId": "bfe6d545-ee3e-4b53-bb85-6f0d649f7790",
        "colab": {
          "base_uri": "https://localhost:8080/",
          "height": 34
        }
      },
      "source": [
        "# Операторы elif и else можно не использовать\n",
        "if 2 * 2 == 4:\n",
        "    print(\"Дважды два четыре!\")"
      ],
      "execution_count": 0,
      "outputs": [
        {
          "output_type": "stream",
          "text": [
            "Дважды два четыре!\n"
          ],
          "name": "stdout"
        }
      ]
    },
    {
      "cell_type": "code",
      "metadata": {
        "id": "_0D8rs_GWGCM",
        "colab_type": "code",
        "outputId": "6479c4e4-ee14-430f-91cf-6ac76fd192d2",
        "colab": {
          "base_uri": "https://localhost:8080/",
          "height": 34
        }
      },
      "source": [
        "# В условии можно применять логические операции, такие как логическое И, логическое ИЛИ и тд\n",
        "a = 5\n",
        "b = 7 \n",
        "c = \"GoGo\"\n",
        "\n",
        "if (a < b) and (c == \"Go\"):\n",
        "    print(\"A\")\n",
        "elif (a < b) and (c == \"GoGo\"):\n",
        "    print(\"B\")"
      ],
      "execution_count": 0,
      "outputs": [
        {
          "output_type": "stream",
          "text": [
            "B\n"
          ],
          "name": "stdout"
        }
      ]
    },
    {
      "cell_type": "code",
      "metadata": {
        "id": "VB8qlFP5WGCQ",
        "colab_type": "code",
        "outputId": "ea5ea4e5-9a6b-4335-eae7-2eaa3e11de0e",
        "colab": {
          "base_uri": "https://localhost:8080/",
          "height": 34
        }
      },
      "source": [
        "# Условия могут быть сколь угодно сложными\n",
        "\n",
        "if ( (a <= b) ) and (type(c) == str):\n",
        "    print(\"a меньше или равно b и в переменной c записана строка\")"
      ],
      "execution_count": 0,
      "outputs": [
        {
          "output_type": "stream",
          "text": [
            "a меньше или равно b и в переменной c записана строка\n"
          ],
          "name": "stdout"
        }
      ]
    },
    {
      "cell_type": "code",
      "metadata": {
        "id": "_oxfAJJVqsqc",
        "colab_type": "code",
        "outputId": "e5fb1e8f-8bcd-496d-dbcf-6d18a9b4b0ef",
        "colab": {
          "base_uri": "https://localhost:8080/",
          "height": 51
        }
      },
      "source": [
        "# Лучше стараться записывать условия компактно\n",
        "if a < 6:\n",
        "  if b > 5:\n",
        "    print('Success')\n",
        "\n",
        "# Лучше так\n",
        "if a < 6 and b > 5:\n",
        "  print('Success')\n",
        "  "
      ],
      "execution_count": 0,
      "outputs": [
        {
          "output_type": "stream",
          "text": [
            "Success\n",
            "Success\n"
          ],
          "name": "stdout"
        }
      ]
    },
    {
      "cell_type": "code",
      "metadata": {
        "id": "_AB9nWYLsKTV",
        "colab_type": "code",
        "outputId": "46781ca1-1317-4cc4-8ecf-bfca7358aef8",
        "colab": {
          "base_uri": "https://localhost:8080/",
          "height": 34
        }
      },
      "source": [
        "# В случае, если ваша переменная булева, не обязательно использовать операторы сравнения\n",
        "a = True\n",
        "b = False\n",
        "\n",
        "if a and not b:\n",
        "  print('Okay')"
      ],
      "execution_count": 0,
      "outputs": [
        {
          "output_type": "stream",
          "text": [
            "Okay\n"
          ],
          "name": "stdout"
        }
      ]
    },
    {
      "cell_type": "code",
      "metadata": {
        "id": "AXVH3mcXWGCS",
        "colab_type": "code",
        "outputId": "0c52b7a4-89e9-4a0b-f3e9-2d8d1b511083",
        "colab": {
          "base_uri": "https://localhost:8080/",
          "height": 51
        }
      },
      "source": [
        "# Логические операции можно использовать и вне if\n",
        "# Каждая такое условие возвращает булеву переменную True или False в зависимости от верности условия\n",
        "a = 5\n",
        "b = 6\n",
        "d = (a == b) or (a < b)\n",
        "print(d)\n",
        "print(int(d))"
      ],
      "execution_count": 0,
      "outputs": [
        {
          "output_type": "stream",
          "text": [
            "True\n",
            "1\n"
          ],
          "name": "stdout"
        }
      ]
    },
    {
      "cell_type": "code",
      "metadata": {
        "id": "ZU63ucxNWGCd",
        "colab_type": "code",
        "outputId": "a9b984e9-941e-4edf-f043-bbaa7df9bf66",
        "colab": {
          "base_uri": "https://localhost:8080/",
          "height": 34
        }
      },
      "source": [
        "# Булевы переменные сами могут выступать в качестве условия в if\n",
        "d = ( (a == b) or (a < b) ) and (type(c) == str)\n",
        "if d:\n",
        "    print(\"a меньше или равно b и в переменной c записана строка\")"
      ],
      "execution_count": 0,
      "outputs": [
        {
          "output_type": "stream",
          "text": [
            "a меньше или равно b и в переменной c записана строка\n"
          ],
          "name": "stdout"
        }
      ]
    },
    {
      "cell_type": "code",
      "metadata": {
        "id": "kBKWPal6WGCg",
        "colab_type": "code",
        "outputId": "f4ea6cad-3125-4a77-b563-a810c13b1eaa",
        "colab": {
          "base_uri": "https://localhost:8080/",
          "height": 34
        }
      },
      "source": [
        "# Условные конструкции можно вкладывать друг в друга\n",
        "# Важно помнить о необходимости делать необходимое количество отступов (4)\n",
        "if 3 + 2 == 5:\n",
        "    if 10 ** 2 == 5 ** 4:\n",
        "        print(\"ABC\")\n",
        "    elif 2 ** 4 == 256 ** (0.5):\n",
        "        print(\"DEF\")"
      ],
      "execution_count": 0,
      "outputs": [
        {
          "output_type": "stream",
          "text": [
            "DEF\n"
          ],
          "name": "stdout"
        }
      ]
    },
    {
      "cell_type": "code",
      "metadata": {
        "id": "9Me3PNQGWGCk",
        "colab_type": "code",
        "outputId": "7179cd03-fc8f-4b84-8c19-8948af83c7f3",
        "colab": {
          "base_uri": "https://localhost:8080/",
          "height": 34
        }
      },
      "source": [
        "if 5 != 6:\n",
        "    print(\"Пять не равно шести\")"
      ],
      "execution_count": 0,
      "outputs": [
        {
          "output_type": "stream",
          "text": [
            "Пять не равно шести\n"
          ],
          "name": "stdout"
        }
      ]
    },
    {
      "cell_type": "code",
      "metadata": {
        "id": "rRlbLMsVWGCm",
        "colab_type": "code",
        "outputId": "eb07f1d8-fb1c-447d-9691-61cfbed419c2",
        "colab": {
          "base_uri": "https://localhost:8080/",
          "height": 51
        }
      },
      "source": [
        "# В качестве замены тернарного оператора (который присутствует например в С++) в питоне есть\n",
        "# однострочный if-else\n",
        "\n",
        "a = 7\n",
        "b = 4 if a > 10 else 6 # конструкция вернет 4 если a > 10 и 6 в противном случае\n",
        "c = 4 if a < 10 else 6\n",
        "print(b)\n",
        "print(c)"
      ],
      "execution_count": 0,
      "outputs": [
        {
          "output_type": "stream",
          "text": [
            "6\n",
            "4\n"
          ],
          "name": "stdout"
        }
      ]
    },
    {
      "cell_type": "code",
      "metadata": {
        "id": "EXVS2nFFiMQL",
        "colab_type": "code",
        "colab": {}
      },
      "source": [
        ""
      ],
      "execution_count": 0,
      "outputs": []
    }
  ]
}