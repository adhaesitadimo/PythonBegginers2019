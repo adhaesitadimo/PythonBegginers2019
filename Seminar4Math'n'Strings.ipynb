{
  "nbformat": 4,
  "nbformat_minor": 0,
  "metadata": {
    "colab": {
      "name": "Seminar4Math'n'Strings.ipynb",
      "provenance": []
    },
    "kernelspec": {
      "name": "python3",
      "display_name": "Python 3"
    }
  },
  "cells": [
    {
      "cell_type": "markdown",
      "metadata": {
        "id": "BAI7vtIqeZ2V",
        "colab_type": "text"
      },
      "source": [
        "# Ah heck here we go again\n",
        "\n",
        "<b>Контест 4</b>: https://contest.yandex.ru/contest/14003\n",
        "\n",
        "до <b>29.09.2019 15:10</b> и до <b>06.10.2019 15:10</b> можно сдавать на половинный балл\n",
        "\n",
        "<b>https://docs.python.org/3/reference/</b>\n",
        "\n",
        "<b>https://www.python.org/dev/peps/pep-0008/</b>"
      ]
    },
    {
      "cell_type": "markdown",
      "metadata": {
        "id": "yEqXG0KQeuy2",
        "colab_type": "text"
      },
      "source": [
        "# Вещественные числа и математические операции с ними (math)"
      ]
    },
    {
      "cell_type": "code",
      "metadata": {
        "id": "GvFW6FYte2J1",
        "colab_type": "code",
        "outputId": "7c39ab82-df0f-4dfe-85bf-1054d1ca283c",
        "colab": {
          "base_uri": "https://localhost:8080/",
          "height": 34
        }
      },
      "source": [
        "# Наиболее распространённый тип для представления вещественных чисел в Python - float()\n",
        "# Не забываем указать тип преобразования при считывании в input()\n",
        "\n",
        "f = float(input())"
      ],
      "execution_count": 0,
      "outputs": [
        {
          "output_type": "stream",
          "text": [
            "3.14\n"
          ],
          "name": "stdout"
        }
      ]
    },
    {
      "cell_type": "code",
      "metadata": {
        "id": "Fq6amdDNfnQn",
        "colab_type": "code",
        "outputId": "1b8bcd39-367e-4a64-ffb0-04d3d029f5c7",
        "colab": {
          "base_uri": "https://localhost:8080/",
          "height": 34
        }
      },
      "source": [
        "# Всегда можно преобразовать в целое. В таком случае дробная часть просто отсекается\n",
        "\n",
        "int(f)"
      ],
      "execution_count": 0,
      "outputs": [
        {
          "output_type": "execute_result",
          "data": {
            "text/plain": [
              "3"
            ]
          },
          "metadata": {
            "tags": []
          },
          "execution_count": 2
        }
      ]
    },
    {
      "cell_type": "code",
      "metadata": {
        "id": "J2UcpqSJgJdY",
        "colab_type": "code",
        "colab": {}
      },
      "source": [
        "# Сегодня для работы нам потребуется первая подгружаемая библиотека для работы - math\n",
        "# Она входит в любой дистрибутив python по умолчанию\n",
        "# Для подгрузки (импортирования) библиотеки используется следующий синтаксис\n",
        "\n",
        "import math"
      ],
      "execution_count": 0,
      "outputs": []
    },
    {
      "cell_type": "code",
      "metadata": {
        "id": "VsDpQzhggmWY",
        "colab_type": "code",
        "outputId": "7fb2c12b-2fce-475e-fd87-e69082cb9424",
        "colab": {
          "base_uri": "https://localhost:8080/",
          "height": 34
        }
      },
      "source": [
        "# В прошлый раз мы упоминали, что существует несколько видов округления\n",
        "# Округлять вещественные числа удобнее всего методами библиотеки math\n",
        "\n",
        "f1 = round(f) # округление до ближайшего целого\n",
        "f2 = math.floor(f) # округление \"вниз\"\n",
        "f3 = math.ceil(f) # округление \"вверх\"\n",
        "\n",
        "print(f1, f2, f3)"
      ],
      "execution_count": 0,
      "outputs": [
        {
          "output_type": "stream",
          "text": [
            "3 3 4\n"
          ],
          "name": "stdout"
        }
      ]
    },
    {
      "cell_type": "code",
      "metadata": {
        "id": "zyNqF4pmhbr1",
        "colab_type": "code",
        "outputId": "cbf2d3d4-85af-4857-c816-c3fc393d02b1",
        "colab": {
          "base_uri": "https://localhost:8080/",
          "height": 51
        }
      },
      "source": [
        "print(math.floor(-2.5))\n",
        "print(int(-2.5))"
      ],
      "execution_count": 0,
      "outputs": [
        {
          "output_type": "stream",
          "text": [
            "-3\n",
            "-2\n"
          ],
          "name": "stdout"
        }
      ]
    },
    {
      "cell_type": "code",
      "metadata": {
        "id": "R2XaK1SKhl-Q",
        "colab_type": "code",
        "outputId": "ce69cc6d-bfa8-4c85-a0ea-a891c62b55de",
        "colab": {
          "base_uri": "https://localhost:8080/",
          "height": 85
        }
      },
      "source": [
        "# Полезные математические функции\n",
        "\n",
        "print(math.sqrt(9)) # квадратный корень\n",
        "print(9 ** 0.5)\n",
        "print(math.pow(2, 6)) # возведение a в степень b\n",
        "print(2 ** 6)"
      ],
      "execution_count": 0,
      "outputs": [
        {
          "output_type": "stream",
          "text": [
            "3.0\n",
            "3.0\n",
            "64.0\n",
            "64\n"
          ],
          "name": "stdout"
        }
      ]
    },
    {
      "cell_type": "code",
      "metadata": {
        "id": "9mU6d0pEh-gI",
        "colab_type": "code",
        "outputId": "39e18d72-8758-4773-8244-f12a2e06c5d7",
        "colab": {
          "base_uri": "https://localhost:8080/",
          "height": 68
        }
      },
      "source": [
        "# Экспонента и логарифм\n",
        "\n",
        "print(math.exp(2))\n",
        "print(math.log(2.71)) # натуральный логарифм (по основанию e)\n",
        "print(math.log(8, 2)) # логарифм числа 8 по основанию 2"
      ],
      "execution_count": 0,
      "outputs": [
        {
          "output_type": "stream",
          "text": [
            "7.38905609893065\n",
            "0.9969486348916096\n",
            "3.0\n"
          ],
          "name": "stdout"
        }
      ]
    },
    {
      "cell_type": "code",
      "metadata": {
        "id": "r_cMLQ0DiXQl",
        "colab_type": "code",
        "outputId": "e6b3e0fe-db5e-4486-a3f2-2922a283d10e",
        "colab": {
          "base_uri": "https://localhost:8080/",
          "height": 51
        }
      },
      "source": [
        "print(math.e)\n",
        "print(math.pi)"
      ],
      "execution_count": 0,
      "outputs": [
        {
          "output_type": "stream",
          "text": [
            "2.718281828459045\n",
            "3.141592653589793\n"
          ],
          "name": "stdout"
        }
      ]
    },
    {
      "cell_type": "code",
      "metadata": {
        "id": "VGk0znIaim8-",
        "colab_type": "code",
        "outputId": "22ae64f7-f918-405d-f0c9-313e662762e0",
        "colab": {
          "base_uri": "https://localhost:8080/",
          "height": 68
        }
      },
      "source": [
        "# Тригонометрические операции\n",
        "x = math.pi / 4\n",
        "\n",
        "print(math.sin(x))\n",
        "print(math.cos(x))\n",
        "print(math.tan(x))"
      ],
      "execution_count": 0,
      "outputs": [
        {
          "output_type": "stream",
          "text": [
            "0.7071067811865475\n",
            "0.7071067811865476\n",
            "0.9999999999999999\n"
          ],
          "name": "stdout"
        }
      ]
    },
    {
      "cell_type": "code",
      "metadata": {
        "id": "8OZaglxxmQeq",
        "colab_type": "code",
        "outputId": "4ea384a7-8a67-4a92-c724-1de1bcc7a7b5",
        "colab": {
          "base_uri": "https://localhost:8080/",
          "height": 68
        }
      },
      "source": [
        "x = 0\n",
        "\n",
        "print(math.asin(x))\n",
        "print(math.acos(x))\n",
        "print(math.atan(x))"
      ],
      "execution_count": 0,
      "outputs": [
        {
          "output_type": "stream",
          "text": [
            "0.0\n",
            "1.5707963267948966\n",
            "0.0\n"
          ],
          "name": "stdout"
        }
      ]
    },
    {
      "cell_type": "code",
      "metadata": {
        "id": "NEkZdrXbmi8D",
        "colab_type": "code",
        "outputId": "c3cb18ae-ee68-4613-acc2-e4650dbbc1e8",
        "colab": {
          "base_uri": "https://localhost:8080/",
          "height": 68
        }
      },
      "source": [
        "x = math.pi / 4\n",
        "y = 45\n",
        "\n",
        "print(math.degrees(x)) # преобразование из радиан в градусы\n",
        "print(math.radians(y)) # и наоборот\n",
        "print(math.pi / 4)"
      ],
      "execution_count": 0,
      "outputs": [
        {
          "output_type": "stream",
          "text": [
            "45.0\n",
            "0.7853981633974483\n",
            "0.7853981633974483\n"
          ],
          "name": "stdout"
        }
      ]
    },
    {
      "cell_type": "markdown",
      "metadata": {
        "id": "ic1dd7xwFn5W",
        "colab_type": "text"
      },
      "source": [
        "# Операции со строками"
      ]
    },
    {
      "cell_type": "code",
      "metadata": {
        "id": "n_-QNHyeFn5X",
        "colab_type": "code",
        "outputId": "1d5d507b-bdde-4479-c162-eb04fe59fb98",
        "colab": {
          "base_uri": "https://localhost:8080/",
          "height": 34
        }
      },
      "source": [
        "# Кроме численных типов, в питоне изначально присутствуют еще много полезных типов объектов\n",
        "# Одним из таких является строка (которая уже рассматривалась в предыдущей лекции)\n",
        "\n",
        "a = \"Hello, my friend!\" # строка записывается в кавычках\n",
        "type(a)"
      ],
      "execution_count": 0,
      "outputs": [
        {
          "output_type": "execute_result",
          "data": {
            "text/plain": [
              "str"
            ]
          },
          "metadata": {
            "tags": []
          },
          "execution_count": 15
        }
      ]
    },
    {
      "cell_type": "code",
      "metadata": {
        "id": "JzP-Ask3Fn5d",
        "colab_type": "code",
        "outputId": "96e0387c-78a0-478a-d77b-36be778b53f3",
        "colab": {
          "base_uri": "https://localhost:8080/",
          "height": 221
        }
      },
      "source": [
        "a = \"Text\"\n",
        "b = 'Text' # Кавычки могут быть ординырными или двойными - в питоне разницы нет\n",
        "\n",
        "c = \"\"\"\n",
        "Я волком бы\n",
        "           выгрыз\n",
        "                 бюрократизм.\n",
        "К мандатам\n",
        "           почтения нету.\n",
        "К любым\n",
        "        чертям с матерями\n",
        "                            катись\n",
        "любая бумажка.\n",
        "                 Но эту...\n",
        "\"\"\" # Для записи большого текста используется тройные кавычки(три раза двойные)\n",
        "print(c)"
      ],
      "execution_count": 0,
      "outputs": [
        {
          "output_type": "stream",
          "text": [
            "\n",
            "Я волком бы\n",
            "           выгрыз\n",
            "                 бюрократизм.\n",
            "К мандатам\n",
            "           почтения нету.\n",
            "К любым\n",
            "        чертям с матерями\n",
            "                            катись\n",
            "любая бумажка.\n",
            "                 Но эту...\n",
            "\n"
          ],
          "name": "stdout"
        }
      ]
    },
    {
      "cell_type": "code",
      "metadata": {
        "id": "9H3PQNkRFn5h",
        "colab_type": "code",
        "outputId": "cc884e63-8bf6-45b9-b663-7f2f93562f4a",
        "colab": {}
      },
      "source": [
        "# Для большинства объектов, содержащих в себе множетсво значений (такие объекты называются коллекциями) \n",
        "# определена функция len()\n",
        "# Она возвращает количество значений в данной объекте\n",
        "# Строки - не исключение\n",
        "\n",
        "a = \"Matilda\"\n",
        "len(a) # 7 - количество символов в строке \"Matilda\""
      ],
      "execution_count": 0,
      "outputs": [
        {
          "output_type": "execute_result",
          "data": {
            "text/plain": [
              "7"
            ]
          },
          "metadata": {
            "tags": []
          },
          "execution_count": 5
        }
      ]
    },
    {
      "cell_type": "code",
      "metadata": {
        "id": "5rPRKqtxFn5k",
        "colab_type": "code",
        "outputId": "5092c1da-2369-4c5b-961f-804504d1b587",
        "colab": {
          "base_uri": "https://localhost:8080/",
          "height": 51
        }
      },
      "source": [
        "# Питон предоставляет удобный доступ к символам в строках\n",
        "# Для доступа к единичному символу необходимо использовать квадратные скобки с индексом символа\n",
        "\n",
        "a = \"Matilda\"\n",
        "print(a[0]) # Важно, что нумерация начинается с 0!\n",
        "print(a[3])"
      ],
      "execution_count": 0,
      "outputs": [
        {
          "output_type": "stream",
          "text": [
            "M\n",
            "i\n"
          ],
          "name": "stdout"
        }
      ]
    },
    {
      "cell_type": "code",
      "metadata": {
        "id": "ocVAhllTFn5n",
        "colab_type": "code",
        "outputId": "f7be2d44-c5bc-437c-93d8-068b6396464b",
        "colab": {
          "base_uri": "https://localhost:8080/",
          "height": 51
        }
      },
      "source": [
        "print(a[len(a)-1]) # Обращение к последнему символу в строке\n",
        "# Питон также поддерживает отрицательные индексы, которые указывают на символы начиная с конца строки\n",
        "# Таким образом, обращение к последнему символу может быть записано в виде\n",
        "print(a[-1])"
      ],
      "execution_count": 0,
      "outputs": [
        {
          "output_type": "stream",
          "text": [
            "a\n",
            "a\n"
          ],
          "name": "stdout"
        }
      ]
    },
    {
      "cell_type": "code",
      "metadata": {
        "id": "fktNapfbFn5p",
        "colab_type": "code",
        "outputId": "d0745157-302c-41a6-f38a-a4915ac05a19",
        "colab": {
          "base_uri": "https://localhost:8080/",
          "height": 51
        }
      },
      "source": [
        "print(a[-2])\n",
        "print(a[-3])"
      ],
      "execution_count": 0,
      "outputs": [
        {
          "output_type": "stream",
          "text": [
            "d\n",
            "l\n"
          ],
          "name": "stdout"
        }
      ]
    },
    {
      "cell_type": "code",
      "metadata": {
        "id": "F34ma3XhFn5t",
        "colab_type": "code",
        "outputId": "e037091c-4f9c-4fb7-ccc1-10e2ca818d1b",
        "colab": {
          "base_uri": "https://localhost:8080/",
          "height": 181
        }
      },
      "source": [
        "print(a[100])\n",
        "print(a[-50]) # выход за пределы границ строки приводит к ошибке"
      ],
      "execution_count": 0,
      "outputs": [
        {
          "output_type": "error",
          "ename": "IndexError",
          "evalue": "ignored",
          "traceback": [
            "\u001b[0;31m---------------------------------------------------------------------------\u001b[0m",
            "\u001b[0;31mIndexError\u001b[0m                                Traceback (most recent call last)",
            "\u001b[0;32m<ipython-input-20-13cc3095f56e>\u001b[0m in \u001b[0;36m<module>\u001b[0;34m()\u001b[0m\n\u001b[0;32m----> 1\u001b[0;31m \u001b[0mprint\u001b[0m\u001b[0;34m(\u001b[0m\u001b[0ma\u001b[0m\u001b[0;34m[\u001b[0m\u001b[0;36m100\u001b[0m\u001b[0;34m]\u001b[0m\u001b[0;34m)\u001b[0m\u001b[0;34m\u001b[0m\u001b[0;34m\u001b[0m\u001b[0m\n\u001b[0m\u001b[1;32m      2\u001b[0m \u001b[0mprint\u001b[0m\u001b[0;34m(\u001b[0m\u001b[0ma\u001b[0m\u001b[0;34m[\u001b[0m\u001b[0;34m-\u001b[0m\u001b[0;36m50\u001b[0m\u001b[0;34m]\u001b[0m\u001b[0;34m)\u001b[0m \u001b[0;31m# выход за пределы границ строки приводит к ошибке\u001b[0m\u001b[0;34m\u001b[0m\u001b[0;34m\u001b[0m\u001b[0m\n",
            "\u001b[0;31mIndexError\u001b[0m: string index out of range"
          ]
        }
      ]
    },
    {
      "cell_type": "code",
      "metadata": {
        "id": "-jHa2iILFn5w",
        "colab_type": "code",
        "outputId": "2f3e709e-ab01-4318-8660-f4f5dd38c6ef",
        "colab": {}
      },
      "source": [
        "# Чтобы взять не один символ, а сразу целую подстроку, необходимо в квадратных скобках указать диапазон через\n",
        "# двоеточие. Важно, что конец не включается\n",
        "\n",
        "# Такая конструкция называется срез\n",
        "print(a[0:4]) # строка с символами от 0 до 4, невключая 4-ый"
      ],
      "execution_count": 0,
      "outputs": [
        {
          "output_type": "stream",
          "text": [
            "Mati\n"
          ],
          "name": "stdout"
        }
      ]
    },
    {
      "cell_type": "code",
      "metadata": {
        "id": "w-K8dTyHFn5z",
        "colab_type": "code",
        "outputId": "138b252a-8a94-4033-c54a-9c60cc9b4b70",
        "colab": {
          "base_uri": "https://localhost:8080/",
          "height": 85
        }
      },
      "source": [
        "print(a[2:5])\n",
        "print(a[1:6])\n",
        "print(a[0:-1])  # В данном случае индекс -1 указывает на последний символ, поэтому будет взята вся строка\n",
        "                # кроме последнего символа\n",
        "print(a[-4:-2]) # Аналогично с пердыдущим случаем. От -4-го до -2-го символа"
      ],
      "execution_count": 0,
      "outputs": [
        {
          "output_type": "stream",
          "text": [
            "til\n",
            "atild\n",
            "Matild\n",
            "il\n"
          ],
          "name": "stdout"
        }
      ]
    },
    {
      "cell_type": "code",
      "metadata": {
        "id": "GDV9znVMFn51",
        "colab_type": "code",
        "outputId": "b7050b3d-a84a-4a5c-d2de-abaeb3985ac7",
        "colab": {
          "base_uri": "https://localhost:8080/",
          "height": 51
        }
      },
      "source": [
        "print(a[0:100]) # выход за пределы границ строки при срезе уже не вызывает ошибки.\n",
        "# При этом будет взята строка до границы\n",
        "print(a[2:])"
      ],
      "execution_count": 0,
      "outputs": [
        {
          "output_type": "stream",
          "text": [
            "Matilda\n",
            "tilda\n"
          ],
          "name": "stdout"
        }
      ]
    },
    {
      "cell_type": "code",
      "metadata": {
        "id": "cmAGTjmhFn55",
        "colab_type": "code",
        "outputId": "4379e737-4536-456e-a32b-677c72cb57bb",
        "colab": {}
      },
      "source": [
        "# Для того, чтобы взять строку до границы можно не указывать число\n",
        "print(a[2:]) # Строка с 2-го символа до конца\n",
        "print(a[:4]) # Строка с начала до 4-го\n",
        "print(a[:])"
      ],
      "execution_count": 0,
      "outputs": [
        {
          "output_type": "stream",
          "text": [
            "tilda\n",
            "Mati\n",
            "Matilda\n"
          ],
          "name": "stdout"
        }
      ]
    },
    {
      "cell_type": "code",
      "metadata": {
        "id": "lCcf7aezFn59",
        "colab_type": "code",
        "outputId": "fd75bfcf-315e-43e8-fbb0-9a2bc01d0d5e",
        "colab": {
          "base_uri": "https://localhost:8080/",
          "height": 68
        }
      },
      "source": [
        "# Питон также позволяет указывать шаг, с которым нужно брать символы из строки\n",
        "# Для этого необходимо через второе двоеточие указать этот шаг\n",
        "print(a[1:6:2]) # с 1 по 6 с шагом 2, то есть 1, 3 и 5 символы\n",
        "print(a[6:2:-1]) # можно указывать отрицательные шаги\n",
        "                 # Важно, что при отрицательном шаге, интекс начала должен быть больше индекса конца\n",
        "print(a[2:6:-1]) # Пустая строка, так как 6 > 2"
      ],
      "execution_count": 0,
      "outputs": [
        {
          "output_type": "stream",
          "text": [
            "aid\n",
            "adli\n",
            "\n"
          ],
          "name": "stdout"
        }
      ]
    },
    {
      "cell_type": "code",
      "metadata": {
        "id": "DzrRIiVWFn6A",
        "colab_type": "code",
        "outputId": "c14aaeff-fa18-4269-97a8-2762022691f8",
        "colab": {
          "base_uri": "https://localhost:8080/",
          "height": 34
        }
      },
      "source": [
        "# С использованием срезов, очень удобно сделать перевернутую строку\n",
        "print(a[::-1])"
      ],
      "execution_count": 0,
      "outputs": [
        {
          "output_type": "stream",
          "text": [
            "adlitaM\n"
          ],
          "name": "stdout"
        }
      ]
    },
    {
      "cell_type": "code",
      "metadata": {
        "id": "lNqUQdYnFn6D",
        "colab_type": "code",
        "outputId": "18cb5eaf-302b-4c15-c46d-1d4c94305155",
        "colab": {
          "base_uri": "https://localhost:8080/",
          "height": 34
        }
      },
      "source": [
        "b = \"шабаш\"\n",
        "if(b == b[::-1]):\n",
        "    print(b, \" - слово-палиндром\")\n",
        "else:\n",
        "    print(b, \" - обычное слово\")"
      ],
      "execution_count": 0,
      "outputs": [
        {
          "output_type": "stream",
          "text": [
            "шабаш  - слово-палиндром\n"
          ],
          "name": "stdout"
        }
      ]
    },
    {
      "cell_type": "code",
      "metadata": {
        "id": "Y89eyYfPFn6J",
        "colab_type": "code",
        "outputId": "4a8cd060-62a4-454f-cdd7-6a80ed80b298",
        "colab": {
          "base_uri": "https://localhost:8080/",
          "height": 34
        }
      },
      "source": [
        "# Для строк определены некоторые арифметические операции\n",
        "a = \"Hello\"\n",
        "b = \"World\"\n",
        "print(a + b) # Конкатенация или \"склеивание\" строк"
      ],
      "execution_count": 0,
      "outputs": [
        {
          "output_type": "stream",
          "text": [
            "HelloWorld\n"
          ],
          "name": "stdout"
        }
      ]
    },
    {
      "cell_type": "code",
      "metadata": {
        "id": "d6gESIlhFn6M",
        "colab_type": "code",
        "outputId": "21b0133d-ec01-4490-9c00-593de20b11e0",
        "colab": {
          "base_uri": "https://localhost:8080/",
          "height": 198
        }
      },
      "source": [
        "a = \"Hello, world\"\n",
        "b = \"world\"\n",
        "print(a - b) # Операция вычитания для строк не определена"
      ],
      "execution_count": 0,
      "outputs": [
        {
          "output_type": "error",
          "ename": "TypeError",
          "evalue": "ignored",
          "traceback": [
            "\u001b[0;31m---------------------------------------------------------------------------\u001b[0m",
            "\u001b[0;31mTypeError\u001b[0m                                 Traceback (most recent call last)",
            "\u001b[0;32m<ipython-input-31-8d24d195b98a>\u001b[0m in \u001b[0;36m<module>\u001b[0;34m()\u001b[0m\n\u001b[1;32m      1\u001b[0m \u001b[0ma\u001b[0m \u001b[0;34m=\u001b[0m \u001b[0;34m\"Hello, world\"\u001b[0m\u001b[0;34m\u001b[0m\u001b[0;34m\u001b[0m\u001b[0m\n\u001b[1;32m      2\u001b[0m \u001b[0mb\u001b[0m \u001b[0;34m=\u001b[0m \u001b[0;34m\"world\"\u001b[0m\u001b[0;34m\u001b[0m\u001b[0;34m\u001b[0m\u001b[0m\n\u001b[0;32m----> 3\u001b[0;31m \u001b[0mprint\u001b[0m\u001b[0;34m(\u001b[0m\u001b[0ma\u001b[0m \u001b[0;34m-\u001b[0m \u001b[0mb\u001b[0m\u001b[0;34m)\u001b[0m \u001b[0;31m# Операция вычитания для строк не определена\u001b[0m\u001b[0;34m\u001b[0m\u001b[0;34m\u001b[0m\u001b[0m\n\u001b[0m",
            "\u001b[0;31mTypeError\u001b[0m: unsupported operand type(s) for -: 'str' and 'str'"
          ]
        }
      ]
    },
    {
      "cell_type": "code",
      "metadata": {
        "id": "p4TU5axyFn6P",
        "colab_type": "code",
        "outputId": "536c24c6-bbf0-4a83-b4d9-00f27f995231",
        "colab": {
          "base_uri": "https://localhost:8080/",
          "height": 215
        }
      },
      "source": [
        "a = \"Hello\"\n",
        "b = \"World\"\n",
        "print(a * 3) # Умножение повторяет строку указанное количесвто раз\n",
        "print(a * a)"
      ],
      "execution_count": 0,
      "outputs": [
        {
          "output_type": "stream",
          "text": [
            "HelloHelloHello\n"
          ],
          "name": "stdout"
        },
        {
          "output_type": "error",
          "ename": "TypeError",
          "evalue": "ignored",
          "traceback": [
            "\u001b[0;31m---------------------------------------------------------------------------\u001b[0m",
            "\u001b[0;31mTypeError\u001b[0m                                 Traceback (most recent call last)",
            "\u001b[0;32m<ipython-input-33-f683230ec648>\u001b[0m in \u001b[0;36m<module>\u001b[0;34m()\u001b[0m\n\u001b[1;32m      2\u001b[0m \u001b[0mb\u001b[0m \u001b[0;34m=\u001b[0m \u001b[0;34m\"World\"\u001b[0m\u001b[0;34m\u001b[0m\u001b[0;34m\u001b[0m\u001b[0m\n\u001b[1;32m      3\u001b[0m \u001b[0mprint\u001b[0m\u001b[0;34m(\u001b[0m\u001b[0ma\u001b[0m \u001b[0;34m*\u001b[0m \u001b[0;36m3\u001b[0m\u001b[0;34m)\u001b[0m \u001b[0;31m# Умножение повторяет строку указанное количесвто раз\u001b[0m\u001b[0;34m\u001b[0m\u001b[0;34m\u001b[0m\u001b[0m\n\u001b[0;32m----> 4\u001b[0;31m \u001b[0mprint\u001b[0m\u001b[0;34m(\u001b[0m\u001b[0ma\u001b[0m \u001b[0;34m*\u001b[0m \u001b[0ma\u001b[0m\u001b[0;34m)\u001b[0m\u001b[0;34m\u001b[0m\u001b[0;34m\u001b[0m\u001b[0m\n\u001b[0m",
            "\u001b[0;31mTypeError\u001b[0m: can't multiply sequence by non-int of type 'str'"
          ]
        }
      ]
    },
    {
      "cell_type": "code",
      "metadata": {
        "id": "Y9hd3q_bFn6S",
        "colab_type": "code",
        "outputId": "5ec596af-230c-4a31-950c-e4ae037d8d26",
        "colab": {}
      },
      "source": [
        "print( (a + \" \" + b + \" \") * 4 )"
      ],
      "execution_count": 0,
      "outputs": [
        {
          "output_type": "stream",
          "text": [
            "Hello World Hello World Hello World Hello World \n"
          ],
          "name": "stdout"
        }
      ]
    },
    {
      "cell_type": "code",
      "metadata": {
        "id": "3xTqo2llFn6W",
        "colab_type": "code",
        "outputId": "a7da835c-6f8f-4596-cf42-3fffdf59645a",
        "colab": {
          "base_uri": "https://localhost:8080/",
          "height": 51
        }
      },
      "source": [
        "print(a * 0) # Домножение на ноль вернет пустую строку\n",
        "print(a * -2) # как и домножение на отрицательные числа"
      ],
      "execution_count": 0,
      "outputs": [
        {
          "output_type": "stream",
          "text": [
            "\n",
            "\n"
          ],
          "name": "stdout"
        }
      ]
    },
    {
      "cell_type": "code",
      "metadata": {
        "id": "rP5xvThRFn6s",
        "colab_type": "code",
        "outputId": "77cf284f-5917-4314-cdae-47c300c2f199",
        "colab": {
          "base_uri": "https://localhost:8080/",
          "height": 34
        }
      },
      "source": [
        "# Для удаления лишних пробелов можно использовать функции rstrip, lstrip, strip\n",
        "s = \"    Hello                \"\n",
        "s.rstrip() # обрезано справа"
      ],
      "execution_count": 0,
      "outputs": [
        {
          "output_type": "execute_result",
          "data": {
            "text/plain": [
              "'    Hello'"
            ]
          },
          "metadata": {
            "tags": []
          },
          "execution_count": 35
        }
      ]
    },
    {
      "cell_type": "code",
      "metadata": {
        "id": "6bVbucR1Fn6w",
        "colab_type": "code",
        "outputId": "359f50d0-d42f-4046-81bd-58faf613a6ed",
        "colab": {
          "base_uri": "https://localhost:8080/",
          "height": 34
        }
      },
      "source": [
        "s.lstrip() # обрезано слева"
      ],
      "execution_count": 0,
      "outputs": [
        {
          "output_type": "execute_result",
          "data": {
            "text/plain": [
              "'Hello                '"
            ]
          },
          "metadata": {
            "tags": []
          },
          "execution_count": 36
        }
      ]
    },
    {
      "cell_type": "code",
      "metadata": {
        "id": "5tb7D5EvFn6y",
        "colab_type": "code",
        "outputId": "d9a8be77-2bcd-46b0-a262-9234d2aaa575",
        "colab": {
          "base_uri": "https://localhost:8080/",
          "height": 34
        }
      },
      "source": [
        "s.strip() # обрезано с обоих сторон"
      ],
      "execution_count": 0,
      "outputs": [
        {
          "output_type": "execute_result",
          "data": {
            "text/plain": [
              "'Hello'"
            ]
          },
          "metadata": {
            "tags": []
          },
          "execution_count": 37
        }
      ]
    },
    {
      "cell_type": "code",
      "metadata": {
        "id": "J03eprhJFn60",
        "colab_type": "code",
        "outputId": "abe0a10c-2bb6-46b9-bcff-8e22b14cbabf",
        "colab": {
          "base_uri": "https://localhost:8080/",
          "height": 51
        }
      },
      "source": [
        "# strip очень удобно использовать при считывании пользовательского ввода\n",
        "input().strip()"
      ],
      "execution_count": 0,
      "outputs": [
        {
          "output_type": "stream",
          "text": [
            "    anfd\n"
          ],
          "name": "stdout"
        },
        {
          "output_type": "execute_result",
          "data": {
            "text/plain": [
              "'anfd'"
            ]
          },
          "metadata": {
            "tags": []
          },
          "execution_count": 39
        }
      ]
    },
    {
      "cell_type": "code",
      "metadata": {
        "id": "Y-V0WVGPnOA6",
        "colab_type": "code",
        "outputId": "6ce32a2e-7c1e-456f-9e7d-1c268d849e43",
        "colab": {
          "base_uri": "https://localhost:8080/",
          "height": 51
        }
      },
      "source": [
        "# методы find и rfind находят первое и последнее вхождение символа в строке\n",
        "\n",
        "v = 'Шла Саша по шоссе и сосала сушку'\n",
        "\n",
        "print(v.find('c'))\n",
        "print(v.rfind('с'))"
      ],
      "execution_count": 0,
      "outputs": [
        {
          "output_type": "stream",
          "text": [
            "14\n",
            "27\n"
          ],
          "name": "stdout"
        }
      ]
    },
    {
      "cell_type": "code",
      "metadata": {
        "id": "ekT0BsdGoT8x",
        "colab_type": "code",
        "outputId": "7bed8529-0569-45df-ce16-501476f2073f",
        "colab": {
          "base_uri": "https://localhost:8080/",
          "height": 51
        }
      },
      "source": [
        "# приведение строки к единому регистру - lower и upper\n",
        "\n",
        "print(v.lower())\n",
        "print(v.upper())"
      ],
      "execution_count": 0,
      "outputs": [
        {
          "output_type": "stream",
          "text": [
            "шла саша по шоссе и сосала сушку\n",
            "ШЛА САША ПО ШОССЕ И СОСАЛА СУШКУ\n"
          ],
          "name": "stdout"
        }
      ]
    },
    {
      "cell_type": "code",
      "metadata": {
        "id": "9EwfJ1F5oiCV",
        "colab_type": "code",
        "outputId": "7c092136-81e5-4922-b180-c26989e360a2",
        "colab": {
          "base_uri": "https://localhost:8080/",
          "height": 34
        }
      },
      "source": [
        "# можно заменить вхождения подстроки методом replace\n",
        "\n",
        "s = 'Hello'\n",
        "s.replace('l', 'L')"
      ],
      "execution_count": 0,
      "outputs": [
        {
          "output_type": "execute_result",
          "data": {
            "text/plain": [
              "'HeLLo'"
            ]
          },
          "metadata": {
            "tags": []
          },
          "execution_count": 43
        }
      ]
    },
    {
      "cell_type": "code",
      "metadata": {
        "id": "1Jq5zlw4pvFq",
        "colab_type": "code",
        "outputId": "b0a5ee38-2572-4f93-b87f-c8c7b80c0fc6",
        "colab": {
          "base_uri": "https://localhost:8080/",
          "height": 34
        }
      },
      "source": [
        "# если указать числовой параметр X, заменятся только первые X вхождений\n",
        "\n",
        "s = 'Abrakadabra'\n",
        "s.replace('a', '', 2)"
      ],
      "execution_count": 0,
      "outputs": [
        {
          "output_type": "execute_result",
          "data": {
            "text/plain": [
              "'Abrkdabra'"
            ]
          },
          "metadata": {
            "tags": []
          },
          "execution_count": 45
        }
      ]
    },
    {
      "cell_type": "code",
      "metadata": {
        "id": "kWt7bcWbk6JU",
        "colab_type": "code",
        "colab": {}
      },
      "source": [
        ""
      ],
      "execution_count": 0,
      "outputs": []
    }
  ]
}