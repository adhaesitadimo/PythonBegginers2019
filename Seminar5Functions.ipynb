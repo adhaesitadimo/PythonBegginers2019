{
  "nbformat": 4,
  "nbformat_minor": 0,
  "metadata": {
    "colab": {
      "name": "Seminar5Functions.ipynb",
      "provenance": [],
      "collapsed_sections": []
    },
    "kernelspec": {
      "name": "python3",
      "display_name": "Python 3"
    }
  },
  "cells": [
    {
      "cell_type": "markdown",
      "metadata": {
        "id": "N-G4wCrL7lr5",
        "colab_type": "text"
      },
      "source": [
        "# Контесты\n",
        "\n",
        "<b>Контест 5</b>: https://contest.yandex.ru/contest/14216\n",
        "\n",
        "до <b>06.10.2019 13:40</b> и до <b>13.10.2019 13:40</b> можно сдавать на половинный балл\n",
        "\n",
        "<b>Контест 6</b>: https://contest.yandex.ru/contest/14217\n",
        "\n",
        "до <b>06.10.2019 15:10</b> и до <b>13.10.2019 15:40</b> можно сдавать на половинный балл\n",
        "\n",
        "<b>https://docs.python.org/3/reference/</b>\n",
        "\n",
        "<b>https://www.python.org/dev/peps/pep-0008/</b>"
      ]
    },
    {
      "cell_type": "markdown",
      "metadata": {
        "id": "8zt77a918R62",
        "colab_type": "text"
      },
      "source": [
        "Для эффективной разработки сложных (а на самом деле вообще любых) программных проектов важно уметь \n",
        "разбивать программу на отдельные части, которые впоследствии будут многократно использоваться.\n",
        "Одним из способов добиться повторного использования кода в Питоне - использование функций\n",
        "\n",
        "Функция - это блок кода, который может вызваться из другой части программы, получить какие-то данные\n",
        "каким-то образом из обработать и вернуть в место, откуда была вызвана функция, результат обработки.\n",
        "\n",
        "Пример:"
      ]
    },
    {
      "cell_type": "code",
      "metadata": {
        "ExecuteTime": {
          "end_time": "2019-09-24T09:11:22.709406Z",
          "start_time": "2019-09-24T09:11:22.702817Z"
        },
        "id": "s86xRM3P9mVI",
        "colab_type": "code",
        "outputId": "9f9203b8-153b-4fe8-ca89-1964d7efae6f",
        "colab": {
          "base_uri": "https://localhost:8080/",
          "height": 34
        }
      },
      "source": [
        "def doubled(number): # Для объявления используется ключевое слово def, далее название и после аргументы в скобках\n",
        "    result = number * 2 # обработка полученных данных. В данном случае полученное число умножается на 2\n",
        "    return result # Посчитанное число возвращается. Для этого используется ключевое слово return\n",
        "\n",
        "a = 5\n",
        "b = doubled(a) # Вызов функции. После того, как функция закончит свою рабту, в b запишится вычисленное значение 10\n",
        "c = doubled(20) # Повторный вызов\n",
        "\n",
        "print(b, c, doubled(c)) # print - это кстати тоже функция."
      ],
      "execution_count": 0,
      "outputs": [
        {
          "output_type": "stream",
          "text": [
            "10 40 80\n"
          ],
          "name": "stdout"
        }
      ]
    },
    {
      "cell_type": "code",
      "metadata": {
        "ExecuteTime": {
          "end_time": "2019-09-24T09:11:22.941259Z",
          "start_time": "2019-09-24T09:11:22.934774Z"
        },
        "id": "a_GeH3i99mVN",
        "colab_type": "code",
        "outputId": "8fae521f-b472-4e6c-aca1-af1af0154cf7",
        "colab": {}
      },
      "source": [
        "def doubled(number):\n",
        "    return number * 2 # отдельная переменная result необязательна\n",
        "\n",
        "print(doubled(10))"
      ],
      "execution_count": 0,
      "outputs": [
        {
          "output_type": "stream",
          "text": [
            "20\n"
          ],
          "name": "stdout"
        }
      ]
    },
    {
      "cell_type": "markdown",
      "metadata": {
        "id": "7KwN7z8c8gQU",
        "colab_type": "text"
      },
      "source": [
        "Вообще говоря функция может не получать вообще никаких аргументов.\n",
        "К примеру, функция input(), которая считывает пользовательский ввод и возвращает его в виде строки"
      ]
    },
    {
      "cell_type": "code",
      "metadata": {
        "ExecuteTime": {
          "end_time": "2019-09-24T09:11:27.450818Z",
          "start_time": "2019-09-24T09:11:23.154624Z"
        },
        "id": "n0mXgzel9mVT",
        "colab_type": "code",
        "colab": {}
      },
      "source": [
        "a = input()\n",
        "print(a)"
      ],
      "execution_count": 0,
      "outputs": []
    },
    {
      "cell_type": "code",
      "metadata": {
        "ExecuteTime": {
          "end_time": "2019-09-24T09:11:28.753061Z",
          "start_time": "2019-09-24T09:11:28.746926Z"
        },
        "id": "q3_-A66b9mVX",
        "colab_type": "code",
        "outputId": "8a0baadd-7342-4dc7-ff4d-95b29bc07a2f",
        "colab": {}
      },
      "source": [
        "def sayHello():\n",
        "    print(\"Hello, User!\")  # Функции, в которых нет return возвращают None\n",
        "    \n",
        "a = sayHello()\n",
        "print(a)"
      ],
      "execution_count": 0,
      "outputs": [
        {
          "output_type": "stream",
          "text": [
            "Hello, User!\n",
            "None\n"
          ],
          "name": "stdout"
        }
      ]
    },
    {
      "cell_type": "markdown",
      "metadata": {
        "id": "1QTKrqvu8qcT",
        "colab_type": "text"
      },
      "source": [
        "Пример: функция, считающая сумму натуральных чисел от 1 до n"
      ]
    },
    {
      "cell_type": "code",
      "metadata": {
        "ExecuteTime": {
          "end_time": "2019-09-24T09:11:28.950434Z",
          "start_time": "2019-09-24T09:11:28.942440Z"
        },
        "id": "LR9qa2nz9mVa",
        "colab_type": "code",
        "outputId": "606ee873-67cc-4659-8812-3653b698e64a",
        "colab": {}
      },
      "source": [
        "def sumTo(n):\n",
        "    result = 0\n",
        "    for i in range(1, n+1):\n",
        "        result += i\n",
        "    return result\n",
        "\n",
        "print(sumTo(5))"
      ],
      "execution_count": 0,
      "outputs": [
        {
          "output_type": "stream",
          "text": [
            "15\n"
          ],
          "name": "stdout"
        }
      ]
    },
    {
      "cell_type": "markdown",
      "metadata": {
        "id": "gSruATCF88KP",
        "colab_type": "text"
      },
      "source": [
        "Все переменные, объявленные внутри функции являются локальными - то есть доступны только внутри функции"
      ]
    },
    {
      "cell_type": "code",
      "metadata": {
        "ExecuteTime": {
          "end_time": "2019-09-24T09:11:29.260622Z",
          "start_time": "2019-09-24T09:11:29.155707Z"
        },
        "id": "3Qf0vOfL9mVe",
        "colab_type": "code",
        "outputId": "16c2a73c-0dfc-4993-95b1-1a7a858edb08",
        "colab": {}
      },
      "source": [
        "def func1(a):\n",
        "    variable = 2\n",
        "    print(variable) # variable доступна внутри функции\n",
        "    return a ** variable\n",
        "\n",
        "print(func1(4))\n",
        "print(variable) # variable не доступна вне функции"
      ],
      "execution_count": 0,
      "outputs": [
        {
          "output_type": "stream",
          "text": [
            "2\n",
            "16\n"
          ],
          "name": "stdout"
        },
        {
          "output_type": "error",
          "ename": "NameError",
          "evalue": "name 'variable' is not defined",
          "traceback": [
            "\u001b[0;31m---------------------------------------------------------------------------\u001b[0m",
            "\u001b[0;31mNameError\u001b[0m                                 Traceback (most recent call last)",
            "\u001b[0;32m<ipython-input-6-cb90b647f495>\u001b[0m in \u001b[0;36m<module>\u001b[0;34m\u001b[0m\n\u001b[1;32m      7\u001b[0m \u001b[0;34m\u001b[0m\u001b[0m\n\u001b[1;32m      8\u001b[0m \u001b[0mprint\u001b[0m\u001b[0;34m(\u001b[0m\u001b[0mfunc1\u001b[0m\u001b[0;34m(\u001b[0m\u001b[0;36m4\u001b[0m\u001b[0;34m)\u001b[0m\u001b[0;34m)\u001b[0m\u001b[0;34m\u001b[0m\u001b[0;34m\u001b[0m\u001b[0m\n\u001b[0;32m----> 9\u001b[0;31m \u001b[0mprint\u001b[0m\u001b[0;34m(\u001b[0m\u001b[0mvariable\u001b[0m\u001b[0;34m)\u001b[0m \u001b[0;31m# variable не доступна вне функции\u001b[0m\u001b[0;34m\u001b[0m\u001b[0;34m\u001b[0m\u001b[0m\n\u001b[0m",
            "\u001b[0;31mNameError\u001b[0m: name 'variable' is not defined"
          ]
        }
      ]
    },
    {
      "cell_type": "markdown",
      "metadata": {
        "id": "hcY8ii0N9A2m",
        "colab_type": "text"
      },
      "source": [
        "А вот функции напротив доступны переменные извне (глобальные переменные)"
      ]
    },
    {
      "cell_type": "code",
      "metadata": {
        "ExecuteTime": {
          "end_time": "2019-09-24T09:11:29.391338Z",
          "start_time": "2019-09-24T09:11:29.384049Z"
        },
        "id": "5iTKbBOK9mVj",
        "colab_type": "code",
        "outputId": "53e5c0ba-9a54-40a5-8db3-9803deffb819",
        "colab": {}
      },
      "source": [
        "variable = 2\n",
        "\n",
        "def func1(a):\n",
        "    print(variable) # variable доступна внутри функции\n",
        "    return a ** variable\n",
        "\n",
        "print(func1(4))"
      ],
      "execution_count": 0,
      "outputs": [
        {
          "output_type": "stream",
          "text": [
            "2\n",
            "16\n"
          ],
          "name": "stdout"
        }
      ]
    },
    {
      "cell_type": "markdown",
      "metadata": {
        "id": "EKNGQSsd9Rkm",
        "colab_type": "text"
      },
      "source": [
        "Функция также может вызывать саму себя внутри себя (рекурсивно)\n",
        "Классический пример: вычисление факториала числа"
      ]
    },
    {
      "cell_type": "code",
      "metadata": {
        "ExecuteTime": {
          "end_time": "2019-09-24T09:11:29.631662Z",
          "start_time": "2019-09-24T09:11:29.625410Z"
        },
        "id": "dj4sxmFm9mVn",
        "colab_type": "code",
        "outputId": "ae7e2247-c895-49e8-fc68-f28ede47d5f3",
        "colab": {}
      },
      "source": [
        "def factorial(n):\n",
        "    if n == 0 :\n",
        "        return 1 # Факториал 0 мы считаем равным 1\n",
        "    return n * factorial(n-1)\n",
        "# Важно: при использовании рекурсивных функций необходимо указать условие выхода. \n",
        "# В противном случае, функция будет бесконечно вызывать себя (точнее сказать до того, как закончится память)\n",
        "# В данном примере, при достижении аргумента n нуля мы прекращаем рекурсию и возвращаем 1\n",
        "\n",
        "print(factorial(4))"
      ],
      "execution_count": 0,
      "outputs": [
        {
          "output_type": "stream",
          "text": [
            "24\n"
          ],
          "name": "stdout"
        }
      ]
    },
    {
      "cell_type": "markdown",
      "metadata": {
        "id": "IhmeDd499fQM",
        "colab_type": "text"
      },
      "source": [
        "Одна из неприятных особенностей рекурсивных функций - большое количество занимаемой памяти\n",
        "из-за того, что нужно хранить значения локальных переменных для каждого вызова функции. \n",
        "Таким образом, если есть реализация функции не использующая рекурсивные вызовы - то в большинстве случаев лучше отдать предпочнение ей"
      ]
    },
    {
      "cell_type": "code",
      "metadata": {
        "ExecuteTime": {
          "end_time": "2019-09-24T09:11:29.891135Z",
          "start_time": "2019-09-24T09:11:29.883689Z"
        },
        "id": "3Z88ueOg9mVr",
        "colab_type": "code",
        "outputId": "27546131-aca5-4e29-ed19-13a781b54f90",
        "colab": {}
      },
      "source": [
        "def factorial2(n): # Альтернативная реализация факториала, не использующая рекурсивные вызовы\n",
        "    result = 1\n",
        "    for i in range(1, n+1):\n",
        "        result *= i\n",
        "    return result\n",
        "\n",
        "print(factorial2(4))"
      ],
      "execution_count": 0,
      "outputs": [
        {
          "output_type": "stream",
          "text": [
            "24\n"
          ],
          "name": "stdout"
        }
      ]
    },
    {
      "cell_type": "code",
      "metadata": {
        "ExecuteTime": {
          "end_time": "2019-09-24T09:11:30.123388Z",
          "start_time": "2019-09-24T09:11:30.115200Z"
        },
        "id": "vXCgaspP9mVu",
        "colab_type": "code",
        "outputId": "3fcea76f-d496-4a57-efd0-e3a0fa0f83cf",
        "colab": {}
      },
      "source": [
        "def sumOfThree(a, b, c):\n",
        "    return a + b + c\n",
        "\n",
        "print(sumOfThree(3, 5, 7))"
      ],
      "execution_count": 0,
      "outputs": [
        {
          "output_type": "stream",
          "text": [
            "15\n"
          ],
          "name": "stdout"
        }
      ]
    },
    {
      "cell_type": "markdown",
      "metadata": {
        "id": "IHaL0Ppa9vx6",
        "colab_type": "text"
      },
      "source": [
        "Также у аргументов функции может быть значение по умолчанию - значение, которое принимает переменная\n",
        "если ее не передали"
      ]
    },
    {
      "cell_type": "code",
      "metadata": {
        "ExecuteTime": {
          "end_time": "2019-09-24T09:11:30.369977Z",
          "start_time": "2019-09-24T09:11:30.359299Z"
        },
        "id": "QW_lMXzX9mVy",
        "colab_type": "code",
        "outputId": "764bf4c1-f009-4bf0-ba71-8ee9f3d4b61d",
        "colab": {}
      },
      "source": [
        "def mmultiply(a, b = 10, c = 5):\n",
        "    print(\"#{0} {1} {2}#\".format(a, b, c))\n",
        "    return a * b * c\n",
        "\n",
        "print(mmultiply(1))\n",
        "print(mmultiply(1, 2))\n",
        "print(mmultiply(1, 2, 3))"
      ],
      "execution_count": 0,
      "outputs": [
        {
          "output_type": "stream",
          "text": [
            "#1 10 5#\n",
            "50\n",
            "#1 2 5#\n",
            "10\n",
            "#1 2 3#\n",
            "6\n"
          ],
          "name": "stdout"
        }
      ]
    },
    {
      "cell_type": "markdown",
      "metadata": {
        "id": "Vqp4tr3M94Ix",
        "colab_type": "text"
      },
      "source": [
        "Функции, конечно же, могут принимать не только числовые значения в качестве агрументов"
      ]
    },
    {
      "cell_type": "code",
      "metadata": {
        "ExecuteTime": {
          "end_time": "2019-09-24T09:11:30.579857Z",
          "start_time": "2019-09-24T09:11:30.572056Z"
        },
        "id": "5lOgbONs9mV3",
        "colab_type": "code",
        "outputId": "024af943-2772-41fa-cfdb-cf07e752b0ba",
        "colab": {}
      },
      "source": [
        "def writeInColumn(string):\n",
        "    for s in string:\n",
        "        print(s)\n",
        "\n",
        "writeInColumn(\"Some text\")"
      ],
      "execution_count": 0,
      "outputs": [
        {
          "output_type": "stream",
          "text": [
            "S\n",
            "o\n",
            "m\n",
            "e\n",
            " \n",
            "t\n",
            "e\n",
            "x\n",
            "t\n"
          ],
          "name": "stdout"
        }
      ]
    },
    {
      "cell_type": "markdown",
      "metadata": {
        "id": "3y25t6gL99Me",
        "colab_type": "text"
      },
      "source": [
        "Функция вообще может принимать произвольное количество аргументов. Для этого необходимо поставить * перед агрументом"
      ]
    },
    {
      "cell_type": "code",
      "metadata": {
        "ExecuteTime": {
          "end_time": "2019-09-24T09:11:30.760795Z",
          "start_time": "2019-09-24T09:11:30.751737Z"
        },
        "id": "G1sIP0_y9mV7",
        "colab_type": "code",
        "outputId": "21d629e8-a4e0-46fc-dd15-0d27d0be0eb6",
        "colab": {}
      },
      "source": [
        "def sumOfNumbers(*numbers): # number - это целый кортеж аргументов, которые были переданы в функцию\n",
        "    print(numbers)\n",
        "    result = 0\n",
        "    for n in numbers:\n",
        "        result += n\n",
        "    return result\n",
        "\n",
        "print(sumOfNumbers(2, 3, 4))\n",
        "print(sumOfNumbers(3, 5, 6, 7, 8, 9 ,3))\n",
        "print(sumOfNumbers()) # Передасться пустой список\n",
        "print(sumOfNumbers(2)) # Хоть аргумент всего один, передасться все равно кортеж с одним значением"
      ],
      "execution_count": 0,
      "outputs": [
        {
          "output_type": "stream",
          "text": [
            "(2, 3, 4)\n",
            "9\n",
            "(3, 5, 6, 7, 8, 9, 3)\n",
            "41\n",
            "()\n",
            "0\n",
            "(2,)\n",
            "2\n"
          ],
          "name": "stdout"
        }
      ]
    },
    {
      "cell_type": "code",
      "metadata": {
        "ExecuteTime": {
          "end_time": "2019-09-24T09:11:30.907064Z",
          "start_time": "2019-09-24T09:11:30.895263Z"
        },
        "id": "K4OLASIr9mV-",
        "colab_type": "code",
        "outputId": "6699557c-0760-41e6-cb89-7b1062f7ea86",
        "colab": {}
      },
      "source": [
        "def mathematica(action, *numbers):\n",
        "    result = None\n",
        "    if action.lower() == \"сложить\":\n",
        "        result = 0\n",
        "        for n in numbers:\n",
        "            result += n\n",
        "    elif action.lower() == \"умножить\":\n",
        "        result = 1\n",
        "        for n in numbers:\n",
        "            result *= n\n",
        "    else:\n",
        "        print(\"Операция \\\"{0}\\\" не поддерживается\".format(action))\n",
        "        result = -1\n",
        "    return result\n",
        "\n",
        "print(mathematica(\"умножить\", 1, 2, 3, 4))\n",
        "print(mathematica(\"сложить\", 1, 2, 3, 4))\n",
        "print(mathematica(\"пожанглировать\", 1, 2, 3, 4))"
      ],
      "execution_count": 0,
      "outputs": [
        {
          "output_type": "stream",
          "text": [
            "24\n",
            "10\n",
            "Операция \"пожанглировать\" не поддерживается\n",
            "-1\n"
          ],
          "name": "stdout"
        }
      ]
    },
    {
      "cell_type": "markdown",
      "metadata": {
        "id": "K5VY02Qp-EzT",
        "colab_type": "text"
      },
      "source": [
        "Важно: после аргумента для произвольного количества аргументов не может быть других агрументов"
      ]
    },
    {
      "cell_type": "code",
      "metadata": {
        "ExecuteTime": {
          "end_time": "2019-09-24T09:11:31.053512Z",
          "start_time": "2019-09-24T09:11:31.039639Z"
        },
        "id": "z5BImB7T9mWC",
        "colab_type": "code",
        "outputId": "6f57c47e-b4e2-4e13-92eb-3a28aad7e82d",
        "colab": {}
      },
      "source": [
        "def func2(*args, a, b, c):\n",
        "    result = a + b + c\n",
        "    for i in args:\n",
        "        result += i\n",
        "    return result\n",
        "\n",
        "func2(2, 3, 4, 5, 6, 7)"
      ],
      "execution_count": 0,
      "outputs": [
        {
          "output_type": "error",
          "ename": "TypeError",
          "evalue": "func2() missing 3 required keyword-only arguments: 'a', 'b', and 'c'",
          "traceback": [
            "\u001b[0;31m---------------------------------------------------------------------------\u001b[0m",
            "\u001b[0;31mTypeError\u001b[0m                                 Traceback (most recent call last)",
            "\u001b[0;32m<ipython-input-15-7bbd5745ee94>\u001b[0m in \u001b[0;36m<module>\u001b[0;34m\u001b[0m\n\u001b[1;32m      7\u001b[0m     \u001b[0;32mreturn\u001b[0m \u001b[0mresult\u001b[0m\u001b[0;34m\u001b[0m\u001b[0;34m\u001b[0m\u001b[0m\n\u001b[1;32m      8\u001b[0m \u001b[0;34m\u001b[0m\u001b[0m\n\u001b[0;32m----> 9\u001b[0;31m \u001b[0mfunc2\u001b[0m\u001b[0;34m(\u001b[0m\u001b[0;36m2\u001b[0m\u001b[0;34m,\u001b[0m \u001b[0;36m3\u001b[0m\u001b[0;34m,\u001b[0m \u001b[0;36m4\u001b[0m\u001b[0;34m,\u001b[0m \u001b[0;36m5\u001b[0m\u001b[0;34m,\u001b[0m \u001b[0;36m6\u001b[0m\u001b[0;34m,\u001b[0m \u001b[0;36m7\u001b[0m\u001b[0;34m)\u001b[0m\u001b[0;34m\u001b[0m\u001b[0;34m\u001b[0m\u001b[0m\n\u001b[0m",
            "\u001b[0;31mTypeError\u001b[0m: func2() missing 3 required keyword-only arguments: 'a', 'b', and 'c'"
          ]
        }
      ]
    },
    {
      "cell_type": "markdown",
      "metadata": {
        "id": "7nnFqp0m-HR0",
        "colab_type": "text"
      },
      "source": [
        "Интересный факт - сама функция является объектом"
      ]
    },
    {
      "cell_type": "code",
      "metadata": {
        "ExecuteTime": {
          "end_time": "2019-09-24T09:11:31.380363Z",
          "start_time": "2019-09-24T09:11:31.372240Z"
        },
        "id": "OjoCj8cn9mWI",
        "colab_type": "code",
        "outputId": "be8bc508-c282-4fb3-af62-f56407af396a",
        "colab": {}
      },
      "source": [
        "def add(a, b):\n",
        "    return a + b\n",
        "\n",
        "x = add # Важно: без скобок! Иначе вызовется сама функция и в x запишется не она, а результат ее работы\n",
        "\n",
        "print(x)\n",
        "print(x(3, 4))"
      ],
      "execution_count": 0,
      "outputs": [
        {
          "output_type": "stream",
          "text": [
            "<function add at 0x117f6f730>\n",
            "7\n"
          ],
          "name": "stdout"
        }
      ]
    }
  ]
}