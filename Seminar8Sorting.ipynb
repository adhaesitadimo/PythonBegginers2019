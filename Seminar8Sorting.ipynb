{
  "nbformat": 4,
  "nbformat_minor": 0,
  "metadata": {
    "colab": {
      "name": "Seminar8Sorting.ipynb",
      "provenance": []
    },
    "kernelspec": {
      "name": "python3",
      "display_name": "Python 3"
    }
  },
  "cells": [
    {
      "cell_type": "markdown",
      "metadata": {
        "id": "tU5OdKoxCg1F",
        "colab_type": "text"
      },
      "source": [
        "## Линейный поиск"
      ]
    },
    {
      "cell_type": "markdown",
      "metadata": {
        "id": "lp10bJ5aCtNj",
        "colab_type": "text"
      },
      "source": [
        "Под <i>линейным поиском</i> в списке подразумевается проход по всему массиву в цикле от начала до конца. Обратите внимание, что в худшем случае будет произведено <i>n</i> операций, где <i>n</i> - число элементов в списке "
      ]
    },
    {
      "cell_type": "code",
      "metadata": {
        "id": "jUXkL9LECr61",
        "colab_type": "code",
        "outputId": "79afdbab-3b9f-4b87-df41-ac50265c094a",
        "colab": {
          "base_uri": "https://localhost:8080/",
          "height": 120
        }
      },
      "source": [
        "# реализация с циклом for\n",
        "mylist = [1, 3, 3, 2, 5, 6]\n",
        "\n",
        "for i in mylist:\n",
        "  # do someting\n",
        "  print(i)"
      ],
      "execution_count": 0,
      "outputs": [
        {
          "output_type": "stream",
          "text": [
            "1\n",
            "3\n",
            "3\n",
            "2\n",
            "5\n",
            "6\n"
          ],
          "name": "stdout"
        }
      ]
    },
    {
      "cell_type": "code",
      "metadata": {
        "id": "xXAHounsDsnT",
        "colab_type": "code",
        "outputId": "5476aed0-6a43-42ec-b11d-01cc78908848",
        "colab": {
          "base_uri": "https://localhost:8080/",
          "height": 120
        }
      },
      "source": [
        "# реализация с циклом while\n",
        "mylist = [1, 3, 3, 2, 5, 6]\n",
        "\n",
        "i = 0\n",
        "while i < len(mylist):\n",
        "  # do someting\n",
        "  print(mylist[i])\n",
        "  i += 1"
      ],
      "execution_count": 0,
      "outputs": [
        {
          "output_type": "stream",
          "text": [
            "1\n",
            "3\n",
            "3\n",
            "2\n",
            "5\n",
            "6\n"
          ],
          "name": "stdout"
        }
      ]
    },
    {
      "cell_type": "markdown",
      "metadata": {
        "id": "OLkH8SqCELON",
        "colab_type": "text"
      },
      "source": [
        "Вообще говоря, линейный поиск не является наиболее эффективным способом пройтись по массиву. Продвинутый материал: <b>двоичный поиск</b>. Можно математически доказать, что работает за <i>log(n)</i> операций в худшем случае <b>однако</b> необходимо сначала отсортировать массив"
      ]
    },
    {
      "cell_type": "code",
      "metadata": {
        "id": "oxrv3mmpEFRO",
        "colab_type": "code",
        "outputId": "3b7bdef2-0b16-4cb9-cd54-a8ef598275b9",
        "colab": {
          "base_uri": "https://localhost:8080/",
          "height": 68
        }
      },
      "source": [
        "mylist.sort()\n",
        "\n",
        "number = 5\n",
        "low = 0\n",
        "# верхний (конечный) индекс\n",
        "high = len(mylist) - 1\n",
        "# как только нижний индекс станет больше на 1 верхнего \n",
        "# или верхний на 1 меньше нижнего цикл остановится\n",
        "while low <= high:\n",
        "    print(low, high)\n",
        "    # находится индекс середины массива или отрезка массива\n",
        "    mid = (low + high) // 2\n",
        "    # Если искомое число меньше числа с индексом середины,\n",
        "    if number < mylist[mid]:\n",
        "        # то верхняя граница сдвигается к середине (но на 1 до нее, \n",
        "        # т. к. середина была уже проверена)\n",
        "        high = mid - 1\n",
        "    # Если искомое число больше числа с индексом середины,\n",
        "    elif number > mylist[mid]:\n",
        "        # то нижняя граница сдвигается за середину\n",
        "        low = mid + 1\n",
        "    # Все остальные случаи возникают, когда искомое число \n",
        "    # равно числу с индексом mid, т.е. оно есть в массиве и найдено\n",
        "    else:\n",
        "        print(\"ID =\", mid)\n",
        "        # прерывание цикла\n",
        "        break\n",
        "# ветка else сработает, если не было break и условие при while стало ложным, \n",
        "# т.е. тогда, когда нижняя граница станет больше верхней. Это значит, что \n",
        "# в массиве нет искомого числа. \n",
        "else:\n",
        "    print(\"No the number\")"
      ],
      "execution_count": 0,
      "outputs": [
        {
          "output_type": "stream",
          "text": [
            "0 5\n",
            "3 5\n",
            "ID = 4\n"
          ],
          "name": "stdout"
        }
      ]
    },
    {
      "cell_type": "markdown",
      "metadata": {
        "id": "2IO8zyGAGHIN",
        "colab_type": "text"
      },
      "source": [
        "## Сортировка"
      ]
    },
    {
      "cell_type": "markdown",
      "metadata": {
        "id": "5HT1Apt9GOWl",
        "colab_type": "text"
      },
      "source": [
        "Здесь мудрить не надо: в Python уже встроен достаточно простой и эффективный метод <b>sort()</b>"
      ]
    },
    {
      "cell_type": "code",
      "metadata": {
        "id": "1Mmy3QVIF3W0",
        "colab_type": "code",
        "outputId": "385af5f6-1bf0-4597-ebb5-695814094b0b",
        "colab": {
          "base_uri": "https://localhost:8080/",
          "height": 34
        }
      },
      "source": [
        "# Simple sort\n",
        "a = [6, 1, 2, 9, 1, -2]\n",
        "a.sort()\n",
        "print(a)"
      ],
      "execution_count": 0,
      "outputs": [
        {
          "output_type": "stream",
          "text": [
            "[-2, 1, 1, 2, 6, 9]\n"
          ],
          "name": "stdout"
        }
      ]
    },
    {
      "cell_type": "code",
      "metadata": {
        "id": "1rBKtYyrmwBF",
        "colab_type": "code",
        "outputId": "e799d8be-0670-4a8a-82d3-acac26dca527",
        "colab": {
          "base_uri": "https://localhost:8080/",
          "height": 34
        }
      },
      "source": [
        "a = [6, 1, 2, 9, 1, -2]\n",
        "\n",
        "print(sorted(a))"
      ],
      "execution_count": 0,
      "outputs": [
        {
          "output_type": "stream",
          "text": [
            "[-2, 1, 1, 2, 6, 9]\n"
          ],
          "name": "stdout"
        }
      ]
    },
    {
      "cell_type": "markdown",
      "metadata": {
        "id": "vFMFUXzBGfQp",
        "colab_type": "text"
      },
      "source": [
        "<b>sort()</b> имеет ряд важных аргументов. Один из них - reverse, при указании его равным True сортирует массив в обратном порядке"
      ]
    },
    {
      "cell_type": "code",
      "metadata": {
        "id": "cOFs--bBGbqe",
        "colab_type": "code",
        "outputId": "35594276-bb42-44b3-afb8-0443e1e1dc7d",
        "colab": {
          "base_uri": "https://localhost:8080/",
          "height": 34
        }
      },
      "source": [
        "# Reversed sort\n",
        "a.sort(reverse=True)\n",
        "print(a)"
      ],
      "execution_count": 0,
      "outputs": [
        {
          "output_type": "stream",
          "text": [
            "[9, 6, 2, 1, 1, -2]\n"
          ],
          "name": "stdout"
        }
      ]
    },
    {
      "cell_type": "markdown",
      "metadata": {
        "id": "JjfRenKoHJnv",
        "colab_type": "text"
      },
      "source": [
        "Другим важным аргументом является ключ сортировки. По умолчанию сортировка предназначена для численных и строковых массивов, но можно задавать свои сложные условия (называемые компараторами)"
      ]
    },
    {
      "cell_type": "code",
      "metadata": {
        "id": "HzJs1CXTHAwH",
        "colab_type": "code",
        "outputId": "232d9355-2120-4497-f44e-a29dbc38da15",
        "colab": {
          "base_uri": "https://localhost:8080/",
          "height": 51
        }
      },
      "source": [
        "# Sorting complex structure\n",
        "a = [('Alex', 9), ('Anna', 7), ('Max', 9), ('Kira', 10)]\n",
        "\n",
        "\n",
        "def ByName(student):\n",
        "    return student[0]\n",
        "\n",
        "def ByLast(student):\n",
        "    return student[0][::-1]\n",
        "\n",
        "\n",
        "a.sort(key=ByName)\n",
        "print(a)\n",
        "a.sort(key=ByLast)\n",
        "print(a)"
      ],
      "execution_count": 0,
      "outputs": [
        {
          "output_type": "stream",
          "text": [
            "[('Alex', 9), ('Anna', 7), ('Kira', 10), ('Max', 9)]\n",
            "[('Anna', 7), ('Kira', 10), ('Max', 9), ('Alex', 9)]\n"
          ],
          "name": "stdout"
        }
      ]
    },
    {
      "cell_type": "markdown",
      "metadata": {
        "id": "-iQu9t1XI-Hx",
        "colab_type": "text"
      },
      "source": [
        "Чтобы не оглашать компараторы в отдельной структуре, можно использовать синтаксис <b>лямбда-функций</b> в питоне."
      ]
    },
    {
      "cell_type": "code",
      "metadata": {
        "id": "-tEP3j7xH2ff",
        "colab_type": "code",
        "outputId": "8a6ffeca-690a-4e87-9bac-dc929344be21",
        "colab": {
          "base_uri": "https://localhost:8080/",
          "height": 68
        }
      },
      "source": [
        "# Sorting by lambda function. Sorting by score\n",
        "a.sort(key = lambda x: x[1])\n",
        "print(a)\n",
        "\n",
        "\n",
        "# Sorting by name\n",
        "a.sort(key = lambda x: x[0])\n",
        "print(a)\n",
        "\n",
        "a = [('Alex', 9, 3), ('Anna', 7, 2), ('Max', 9, 8), ('Kira', 10, 10), ('Tony', 9, 7)]\n",
        "a.sort(key = lambda x: (x[1], x[2]))\n",
        "print(a)"
      ],
      "execution_count": 0,
      "outputs": [
        {
          "output_type": "stream",
          "text": [
            "[('Anna', 7), ('Max', 9), ('Alex', 9), ('Kira', 10)]\n",
            "[('Alex', 9), ('Anna', 7), ('Kira', 10), ('Max', 9)]\n",
            "[('Anna', 7, 2), ('Alex', 9, 3), ('Tony', 9, 7), ('Max', 9, 8), ('Kira', 10, 10)]\n"
          ],
          "name": "stdout"
        }
      ]
    },
    {
      "cell_type": "markdown",
      "metadata": {
        "id": "4-DAVsQKJQT_",
        "colab_type": "text"
      },
      "source": [
        ""
      ]
    },
    {
      "cell_type": "code",
      "metadata": {
        "id": "FS5aBmuXI8xP",
        "colab_type": "code",
        "colab": {}
      },
      "source": [
        ""
      ],
      "execution_count": 0,
      "outputs": []
    }
  ]
}