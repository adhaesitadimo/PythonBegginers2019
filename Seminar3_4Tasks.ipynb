{
  "nbformat": 4,
  "nbformat_minor": 0,
  "metadata": {
    "colab": {
      "name": "Seminar3_4Tasks.ipynb",
      "provenance": []
    },
    "kernelspec": {
      "name": "python3",
      "display_name": "Python 3"
    }
  },
  "cells": [
    {
      "cell_type": "markdown",
      "metadata": {
        "id": "d0kfM1YUqa4s",
        "colab_type": "text"
      },
      "source": [
        "### По данному натуральному n вычислите сумму $1^3+2^3+3^3+...+n^3$"
      ]
    },
    {
      "cell_type": "code",
      "metadata": {
        "id": "XimcwmZjqZ_0",
        "colab_type": "code",
        "outputId": "3739ca5f-f600-4549-f97d-6bddff51fce0",
        "colab": {
          "base_uri": "https://localhost:8080/",
          "height": 34
        }
      },
      "source": [
        "x = int(input())"
      ],
      "execution_count": 0,
      "outputs": [
        {
          "output_type": "stream",
          "text": [
            "3\n"
          ],
          "name": "stdout"
        }
      ]
    },
    {
      "cell_type": "code",
      "metadata": {
        "id": "uwis5PAOlNxK",
        "colab_type": "code",
        "outputId": "c4338ecc-886f-4f1d-c7dc-90d2931510ca",
        "colab": {
          "base_uri": "https://localhost:8080/",
          "height": 34
        }
      },
      "source": [
        "sum = 0\n",
        "i = 1\n",
        "while i <= x:\n",
        "  sum += i ** 3\n",
        "  i += 1\n",
        "  \n",
        "print(sum)\n",
        "  "
      ],
      "execution_count": 0,
      "outputs": [
        {
          "output_type": "stream",
          "text": [
            "36\n"
          ],
          "name": "stdout"
        }
      ]
    },
    {
      "cell_type": "markdown",
      "metadata": {
        "id": "iguRTPsWqlpR",
        "colab_type": "text"
      },
      "source": [
        "### По данному целому неотрицательному n вычислите значение $n!$"
      ]
    },
    {
      "cell_type": "code",
      "metadata": {
        "id": "PXRy4fl_rFH-",
        "colab_type": "code",
        "outputId": "4b28c1f8-3653-40f4-9dea-ffe641ab95b3",
        "colab": {
          "base_uri": "https://localhost:8080/",
          "height": 51
        }
      },
      "source": [
        "n = int(input())\n",
        "factorial = 1\n",
        "i = 1\n",
        "while i <= n:\n",
        "  factorial *= i\n",
        "  i += 1\n",
        "  \n",
        "print(factorial)"
      ],
      "execution_count": 0,
      "outputs": [
        {
          "output_type": "stream",
          "text": [
            "20\n",
            "2432902008176640000\n"
          ],
          "name": "stdout"
        }
      ]
    },
    {
      "cell_type": "markdown",
      "metadata": {
        "id": "mN1f9RDWrHlD",
        "colab_type": "text"
      },
      "source": [
        "### Напишите программу, которая по данному числу n от 1 до 9 выводит на экран n флагов. Изображение одного флага имеет размер 4×4 символов, между двумя соседними флагами также имеется пустой (из пробелов) столбец. Разрешается вывести пустой столбец после последнего флага. Внутри каждого флага должен быть записан его номер — число от 1 до n.\n"
      ]
    },
    {
      "cell_type": "code",
      "metadata": {
        "id": "MtIuz4kTrQ94",
        "colab_type": "code",
        "colab": {}
      },
      "source": [
        "# n = 1\n",
        "# \n",
        "# +___\n",
        "# |1 /\n",
        "# |__\\\n",
        "# | "
      ],
      "execution_count": 0,
      "outputs": []
    },
    {
      "cell_type": "code",
      "metadata": {
        "id": "gY2ItBRlraaa",
        "colab_type": "code",
        "outputId": "00a0b44b-3109-4fff-c31b-60fcdc574c9d",
        "colab": {
          "base_uri": "https://localhost:8080/",
          "height": 646
        }
      },
      "source": [
        "n = int(input())\n",
        "i = 1\n",
        "while i <= n:\n",
        "  print('+___')\n",
        "  print('|{} /'.format(i))\n",
        "  print('|__\\\\')\n",
        "  print('|')\n",
        "  i += 1"
      ],
      "execution_count": 0,
      "outputs": [
        {
          "output_type": "stream",
          "text": [
            "9\n",
            "+___\n",
            "|1 /\n",
            "|__\\\n",
            "|\n",
            "+___\n",
            "|2 /\n",
            "|__\\\n",
            "|\n",
            "+___\n",
            "|3 /\n",
            "|__\\\n",
            "|\n",
            "+___\n",
            "|4 /\n",
            "|__\\\n",
            "|\n",
            "+___\n",
            "|5 /\n",
            "|__\\\n",
            "|\n",
            "+___\n",
            "|6 /\n",
            "|__\\\n",
            "|\n",
            "+___\n",
            "|7 /\n",
            "|__\\\n",
            "|\n",
            "+___\n",
            "|8 /\n",
            "|__\\\n",
            "|\n",
            "+___\n",
            "|9 /\n",
            "|__\\\n",
            "|\n"
          ],
          "name": "stdout"
        }
      ]
    },
    {
      "cell_type": "markdown",
      "metadata": {
        "id": "35I7mu9lrbks",
        "colab_type": "text"
      },
      "source": [
        "### Дано положительное действительное число $X$. Выведите его первую цифру после десятичной точки. При решении этой задачи нельзя пользоваться условной инструкцией и циклом."
      ]
    },
    {
      "cell_type": "code",
      "metadata": {
        "id": "b9TbL_XirvPj",
        "colab_type": "code",
        "outputId": "20eefaa4-2d1b-4b86-c6c3-277c2ea588e5",
        "colab": {
          "base_uri": "https://localhost:8080/",
          "height": 34
        }
      },
      "source": [
        "x = float(input())"
      ],
      "execution_count": 0,
      "outputs": [
        {
          "output_type": "stream",
          "text": [
            "-2.52\n"
          ],
          "name": "stdout"
        }
      ]
    },
    {
      "cell_type": "code",
      "metadata": {
        "id": "fRMJdik9obb7",
        "colab_type": "code",
        "outputId": "536fe5b2-1080-4315-f4c8-aaa026b803fc",
        "colab": {
          "base_uri": "https://localhost:8080/",
          "height": 34
        }
      },
      "source": [
        "print(int(x * 10) % 10)"
      ],
      "execution_count": 0,
      "outputs": [
        {
          "output_type": "stream",
          "text": [
            "5\n"
          ],
          "name": "stdout"
        }
      ]
    },
    {
      "cell_type": "markdown",
      "metadata": {
        "id": "2y_y6imiryln",
        "colab_type": "text"
      },
      "source": [
        "### С начала суток прошло $H$ часов, $M$ минут, $S$ секунд ($0 \\leq H < 12, 0 \\leq M < 60, 0 \\leq S < 60$). По данным числам $H$, $M$, $S$ определите угол (в градусах), на который повернулаcь часовая стрелка с начала суток и выведите его в виде действительного числа. При решении этой задачи нельзя пользоваться условными инструкциями и циклами."
      ]
    },
    {
      "cell_type": "code",
      "metadata": {
        "id": "sbc1CBDzsG2I",
        "colab_type": "code",
        "outputId": "03428ae9-3219-42e5-e3a3-d4229224afa3",
        "colab": {
          "base_uri": "https://localhost:8080/",
          "height": 85
        }
      },
      "source": [
        "h = int(input())\n",
        "m = int(input())\n",
        "s = int(input())\n",
        "\n",
        "angle = 30 * h + 0.5 * m + 0.5 / 60 * s\n",
        "print(angle)"
      ],
      "execution_count": 0,
      "outputs": [
        {
          "output_type": "stream",
          "text": [
            "5\n",
            "30\n",
            "0\n",
            "165.0\n"
          ],
          "name": "stdout"
        }
      ]
    },
    {
      "cell_type": "markdown",
      "metadata": {
        "id": "aS5gzKw2sjS3",
        "colab_type": "text"
      },
      "source": [
        "### По данному числу n вычислите сумму $4(1−\\frac{1}{3}+\\frac{1}{5}−\\frac{1}{7}+...+\\frac{(−1)^n}{2n+1})$. Запрещается пользоваться операцией возведения в степень."
      ]
    },
    {
      "cell_type": "code",
      "metadata": {
        "id": "y9-bQV8Rs47A",
        "colab_type": "code",
        "outputId": "0cae43e3-20a6-48ea-ec87-f15b0d454d47",
        "colab": {
          "base_uri": "https://localhost:8080/",
          "height": 51
        }
      },
      "source": [
        "n = int(input())\n",
        "\n",
        "sums = 1\n",
        "sign = -1\n",
        "for i in range(1, n+1):\n",
        "  sums += (sign * 1) / (2 * i + 1)\n",
        "  sign *= -1\n",
        "  \n",
        "sums *= 4\n",
        "print(sums)"
      ],
      "execution_count": 0,
      "outputs": [
        {
          "output_type": "stream",
          "text": [
            "10000000\n",
            "3.1415927535897814\n"
          ],
          "name": "stdout"
        }
      ]
    },
    {
      "cell_type": "markdown",
      "metadata": {
        "id": "T7J9VNTStE4N",
        "colab_type": "text"
      },
      "source": [
        "\n",
        "### Дана строка. Разрежьте ее на две равные части (если длина строки — четная, а если длина строки нечетная, то длина первой части должна быть на один символ больше). Переставьте эти две части местами, результат запишите в новую строку и выведите на экран."
      ]
    },
    {
      "cell_type": "code",
      "metadata": {
        "id": "NzsABNAOtGn_",
        "colab_type": "code",
        "outputId": "0a55eb94-54eb-4a74-f0d7-73da4b5de401",
        "colab": {
          "base_uri": "https://localhost:8080/",
          "height": 34
        }
      },
      "source": [
        "import math\n",
        "\n",
        "s = 'abakabdabra' \n",
        "\n",
        "b = math.ceil(len(s) / 2)\n",
        "\n",
        "print(s[b:] + s[:b])"
      ],
      "execution_count": 0,
      "outputs": [
        {
          "output_type": "stream",
          "text": [
            "dabraabakab\n"
          ],
          "name": "stdout"
        }
      ]
    },
    {
      "cell_type": "markdown",
      "metadata": {
        "id": "ri5ZmrLwtSW_",
        "colab_type": "text"
      },
      "source": [
        "### Дана строка, в которой буква h встречается как минимум два раза. Разверните последовательность символов, заключенную между первым и последнием появлением буквы h, в противоположном порядке."
      ]
    },
    {
      "cell_type": "code",
      "metadata": {
        "id": "R9ohhgKxtUc4",
        "colab_type": "code",
        "outputId": "4b69d741-aa98-4b31-cb03-ec4e40c74154",
        "colab": {
          "base_uri": "https://localhost:8080/",
          "height": 34
        }
      },
      "source": [
        "s = 'sdsdgsdghwefweghgweg'\n",
        "\n",
        "ind1 = s.find('h')\n",
        "ind2 = s.rfind('h')\n",
        "\n",
        "print(s[:ind1] + s[ind2:ind1:-1] + s[ind2:])"
      ],
      "execution_count": 0,
      "outputs": [
        {
          "output_type": "stream",
          "text": [
            "sdsdgsdghgewfewhgweg\n"
          ],
          "name": "stdout"
        }
      ]
    },
    {
      "cell_type": "code",
      "metadata": {
        "id": "GRVluvAYtAQt",
        "colab_type": "code",
        "colab": {}
      },
      "source": [
        ""
      ],
      "execution_count": 0,
      "outputs": []
    }
  ]
}