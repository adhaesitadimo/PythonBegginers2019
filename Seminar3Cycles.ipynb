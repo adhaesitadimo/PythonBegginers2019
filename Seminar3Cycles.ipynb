{
  "nbformat": 4,
  "nbformat_minor": 0,
  "metadata": {
    "colab": {
      "name": "Seminar3Cycles.ipynb",
      "provenance": []
    },
    "kernelspec": {
      "name": "python3",
      "display_name": "Python 3"
    }
  },
  "cells": [
    {
      "cell_type": "markdown",
      "metadata": {
        "id": "mkmQVWPSUdbs",
        "colab_type": "text"
      },
      "source": [
        "# Традиционное напоминание\n",
        "\n",
        "<b>Контест 3</b>: https://contest.yandex.ru/contest/14002\n",
        "\n",
        "до <b>29.09.2019 13:40</b> и до <b>06.10.2019 13:40</b> можно сдавать на половинный балл\n",
        "\n",
        "<b>https://docs.python.org/3/reference/</b>\n",
        "\n",
        "<b>https://www.python.org/dev/peps/pep-0008/</b>"
      ]
    },
    {
      "cell_type": "markdown",
      "metadata": {
        "id": "aXrZPl-mVplB",
        "colab_type": "text"
      },
      "source": [
        "#Цикл while"
      ]
    },
    {
      "cell_type": "code",
      "metadata": {
        "id": "nWRmrGilVrLX",
        "colab_type": "code",
        "outputId": "224fca43-3b71-4d02-eb60-7c4cf2c9160a",
        "colab": {
          "base_uri": "https://localhost:8080/",
          "height": 102
        }
      },
      "source": [
        "# Устроен довольно незамысловато: выполняется, пока верно условие, которое ему передали\n",
        "\n",
        "a = 0\n",
        "while a < 5:\n",
        "    print(a)\n",
        "    a = a + 1"
      ],
      "execution_count": 0,
      "outputs": [
        {
          "output_type": "stream",
          "text": [
            "0\n",
            "1\n",
            "2\n",
            "3\n",
            "4\n"
          ],
          "name": "stdout"
        }
      ]
    },
    {
      "cell_type": "code",
      "metadata": {
        "id": "ht8v3PZ5WK11",
        "colab_type": "code",
        "outputId": "6e61159a-1a58-43db-db55-69ae3bf33f88",
        "colab": {
          "base_uri": "https://localhost:8080/",
          "height": 102
        }
      },
      "source": [
        "# Если по какой-то причине необходимо прервать цикл, используем оператор break\n",
        "\n",
        "a = 1\n",
        "while a < 10:\n",
        "    print(a)\n",
        "    if a % 5 == 0:\n",
        "        break\n",
        "    a = a + 1"
      ],
      "execution_count": 0,
      "outputs": [
        {
          "output_type": "stream",
          "text": [
            "1\n",
            "2\n",
            "3\n",
            "4\n",
            "5\n"
          ],
          "name": "stdout"
        }
      ]
    },
    {
      "cell_type": "code",
      "metadata": {
        "id": "D5a9JyQyWohC",
        "colab_type": "code",
        "outputId": "de5ecbc2-f321-421b-8ce0-86393ace62e3",
        "colab": {
          "base_uri": "https://localhost:8080/",
          "height": 102
        }
      },
      "source": [
        "# Если при каком-то условии нужно \"пропустить\" (перейти к следующей итерации) цикла, используем оператор continue\n",
        "\n",
        "b = 0\n",
        "while b < 10:\n",
        "    b += 1\n",
        "    if b % 2 == 0: # все итерации, на которых i - четное число, сразу переходят на следующую итерацию\n",
        "        continue\n",
        "    print(b)\n",
        "    "
      ],
      "execution_count": 0,
      "outputs": [
        {
          "output_type": "stream",
          "text": [
            "1\n",
            "3\n",
            "5\n",
            "7\n",
            "9\n"
          ],
          "name": "stdout"
        }
      ]
    },
    {
      "cell_type": "code",
      "metadata": {
        "id": "7t2yV7hAYCoK",
        "colab_type": "code",
        "outputId": "2e2d5ff1-00c1-4594-8d93-dd05a749d119",
        "colab": {
          "base_uri": "https://localhost:8080/",
          "height": 272
        }
      },
      "source": [
        "# После цикла можно использовать оператор else. \n",
        "# Код, написанный под оператором else будет запущен после успешного окончания цикла\n",
        "\n",
        "c = 1\n",
        "while c < 15:\n",
        "    print(c)\n",
        "    c += 1\n",
        "else:\n",
        "    print(\"Mission accomplished\")"
      ],
      "execution_count": 0,
      "outputs": [
        {
          "output_type": "stream",
          "text": [
            "1\n",
            "2\n",
            "3\n",
            "4\n",
            "5\n",
            "6\n",
            "7\n",
            "8\n",
            "9\n",
            "10\n",
            "11\n",
            "12\n",
            "13\n",
            "14\n",
            "Mission accomplished\n"
          ],
          "name": "stdout"
        }
      ]
    },
    {
      "cell_type": "code",
      "metadata": {
        "id": "bGA9oRFgZNs6",
        "colab_type": "code",
        "outputId": "f42cf12b-b704-4220-d824-30dd181cf5b6",
        "colab": {
          "base_uri": "https://localhost:8080/",
          "height": 102
        }
      },
      "source": [
        "# Если цикл был прерван, переход в else осуществлен не будет\n",
        "\n",
        "c = 1\n",
        "while c < 15:\n",
        "    print(c)\n",
        "    c += 1\n",
        "    if c % 5 == 0:\n",
        "        print(\"Epic Fail\")\n",
        "        break\n",
        "else:\n",
        "    print(\"Mission accomplished\")"
      ],
      "execution_count": 0,
      "outputs": [
        {
          "output_type": "stream",
          "text": [
            "1\n",
            "2\n",
            "3\n",
            "4\n",
            "Epic Fail\n"
          ],
          "name": "stdout"
        }
      ]
    },
    {
      "cell_type": "code",
      "metadata": {
        "id": "p4FpzIYDa055",
        "colab_type": "code",
        "outputId": "42e1c817-dbcd-4ced-92eb-a1fdd7e770e7",
        "colab": {
          "base_uri": "https://localhost:8080/",
          "height": 187
        }
      },
      "source": [
        "# Внутрь цикла можно вкладывать различные конструкции, в том числе, условные операторы\n",
        "\n",
        "i = 0\n",
        "while i < 15:\n",
        "    i += 1\n",
        "    if i % 3 == 0:\n",
        "        continue\n",
        "    else:\n",
        "        print(i)"
      ],
      "execution_count": 0,
      "outputs": [
        {
          "output_type": "stream",
          "text": [
            "1\n",
            "2\n",
            "4\n",
            "5\n",
            "7\n",
            "8\n",
            "10\n",
            "11\n",
            "13\n",
            "14\n"
          ],
          "name": "stdout"
        }
      ]
    },
    {
      "cell_type": "markdown",
      "metadata": {
        "id": "TwHp7vGtZ8pF",
        "colab_type": "text"
      },
      "source": [
        "# Цикл for"
      ]
    },
    {
      "cell_type": "code",
      "metadata": {
        "id": "gSfIF9m-aABR",
        "colab_type": "code",
        "outputId": "cb8fd35b-e863-4e4e-8a9c-97b223689ea1",
        "colab": {
          "base_uri": "https://localhost:8080/",
          "height": 255
        }
      },
      "source": [
        "# Цикл for в Питоне отличается от цикла for в других языках программирования (например C/C++)\n",
        "# В Питоне циклу for необходим объект, который содержит в себе множество значений\n",
        "\n",
        "s = \"РУССКИЕ ВПЕРЕД\"\n",
        "\n",
        "for c in s: # строка - объект, который содержит в себе множество единичных символов\n",
        "    print(c) # for пройдет каждый символ в строке и на каждом символе запустит код, написанный ниже,\n",
        "             # записав значение соответствующего символа в переменную c"
      ],
      "execution_count": 0,
      "outputs": [
        {
          "output_type": "stream",
          "text": [
            "Р\n",
            "У\n",
            "С\n",
            "С\n",
            "К\n",
            "И\n",
            "Е\n",
            " \n",
            "В\n",
            "П\n",
            "Е\n",
            "Р\n",
            "Е\n",
            "Д\n"
          ],
          "name": "stdout"
        }
      ]
    },
    {
      "cell_type": "code",
      "metadata": {
        "id": "T2XAPN1AaKUf",
        "colab_type": "code",
        "outputId": "5d7aa27a-fc61-4e70-d3e0-1f2c3fb95d88",
        "colab": {
          "base_uri": "https://localhost:8080/",
          "height": 102
        }
      },
      "source": [
        "# Если хочется выводить в стиле C, можно использовать оператор диапазона range()\n",
        "# В него передается несколько аргументов: один из них - верхняя граница числа повторений (невключительно)\n",
        "\n",
        "for i in range(5):\n",
        "    print(\"РУССКИЕ ВПЕРЕД\")"
      ],
      "execution_count": 0,
      "outputs": [
        {
          "output_type": "stream",
          "text": [
            "РУССКИЕ ВПЕРЕД\n",
            "РУССКИЕ ВПЕРЕД\n",
            "РУССКИЕ ВПЕРЕД\n",
            "РУССКИЕ ВПЕРЕД\n",
            "РУССКИЕ ВПЕРЕД\n"
          ],
          "name": "stdout"
        }
      ]
    },
    {
      "cell_type": "code",
      "metadata": {
        "id": "ba6l5CFOb3M7",
        "colab_type": "code",
        "outputId": "59062b35-03be-4c2b-da40-afa8b2565ec7",
        "colab": {
          "base_uri": "https://localhost:8080/",
          "height": 85
        }
      },
      "source": [
        "# Другой - нижняя граница\n",
        "# По умолчанию она равна нулю\n",
        "\n",
        "for i in range(1, 5):\n",
        "    print(\"РУССКИЕ ВПЕРЕД\")"
      ],
      "execution_count": 0,
      "outputs": [
        {
          "output_type": "stream",
          "text": [
            "РУССКИЕ ВПЕРЕД\n",
            "РУССКИЕ ВПЕРЕД\n",
            "РУССКИЕ ВПЕРЕД\n",
            "РУССКИЕ ВПЕРЕД\n"
          ],
          "name": "stdout"
        }
      ]
    },
    {
      "cell_type": "code",
      "metadata": {
        "id": "x8CLovjJcSxT",
        "colab_type": "code",
        "outputId": "0134e3eb-e946-4e7b-94a2-8dc24d6f3568",
        "colab": {
          "base_uri": "https://localhost:8080/",
          "height": 153
        }
      },
      "source": [
        "# Последний - шаг цикла\n",
        "\n",
        "for i in range(10, 50, 5):\n",
        "    print(i)"
      ],
      "execution_count": 0,
      "outputs": [
        {
          "output_type": "stream",
          "text": [
            "10\n",
            "15\n",
            "20\n",
            "25\n",
            "30\n",
            "35\n",
            "40\n",
            "45\n"
          ],
          "name": "stdout"
        }
      ]
    },
    {
      "cell_type": "code",
      "metadata": {
        "id": "MJH9vcREcg_n",
        "colab_type": "code",
        "outputId": "31e45393-952e-4cd2-f328-5541f5d46fad",
        "colab": {
          "base_uri": "https://localhost:8080/",
          "height": 51
        }
      },
      "source": [
        "# Как итерироваться с декрементацией? Указать отрицательный шаг\n",
        "\n",
        "for i in range(20, 10, -5):\n",
        "    print(i)"
      ],
      "execution_count": 0,
      "outputs": [
        {
          "output_type": "stream",
          "text": [
            "20\n",
            "15\n"
          ],
          "name": "stdout"
        }
      ]
    },
    {
      "cell_type": "code",
      "metadata": {
        "id": "98s7XLsQc0PC",
        "colab_type": "code",
        "colab": {}
      },
      "source": [
        "# Разумеется, начало диапазона в таком случае должно превышать его конец\n",
        "\n",
        "for i in range(10, 20, -1):\n",
        "    print(i)"
      ],
      "execution_count": 0,
      "outputs": []
    },
    {
      "cell_type": "code",
      "metadata": {
        "id": "qXzE0KHndEOR",
        "colab_type": "code",
        "colab": {}
      },
      "source": [
        "for i in range(20, 10):\n",
        "    print(i)"
      ],
      "execution_count": 0,
      "outputs": []
    },
    {
      "cell_type": "code",
      "metadata": {
        "id": "n3qQ3NYMdNV-",
        "colab_type": "code",
        "outputId": "88106037-75b1-457d-ff19-8e2622c878f9",
        "colab": {
          "base_uri": "https://localhost:8080/",
          "height": 102
        }
      },
      "source": [
        "# С циклом for всё так же можно применять break, continue, else\n",
        "\n",
        "for i in range(10):\n",
        "    if i % 2 == 0: # все итерации, на которых i - четное число, сразу переходят на следующую итерацию\n",
        "        continue\n",
        "    print(i)"
      ],
      "execution_count": 0,
      "outputs": [
        {
          "output_type": "stream",
          "text": [
            "1\n",
            "3\n",
            "5\n",
            "7\n",
            "9\n"
          ],
          "name": "stdout"
        }
      ]
    },
    {
      "cell_type": "code",
      "metadata": {
        "id": "NR6dd0BwdZQv",
        "colab_type": "code",
        "outputId": "ec4fa8d6-fb1c-4b0e-911c-8fabb1eebc06",
        "colab": {
          "base_uri": "https://localhost:8080/",
          "height": 85
        }
      },
      "source": [
        "for i in range(3):\n",
        "    print(i)\n",
        "else:\n",
        "    print(\"Else!\")"
      ],
      "execution_count": 0,
      "outputs": [
        {
          "output_type": "stream",
          "text": [
            "0\n",
            "1\n",
            "2\n",
            "Else!\n"
          ],
          "name": "stdout"
        }
      ]
    },
    {
      "cell_type": "code",
      "metadata": {
        "id": "OrD4odi3dbYd",
        "colab_type": "code",
        "outputId": "b783df12-7ad2-4079-ab41-616d7430e8a5",
        "colab": {
          "base_uri": "https://localhost:8080/",
          "height": 102
        }
      },
      "source": [
        "for i in range(10):\n",
        "    if i > 4:\n",
        "        break\n",
        "    print(i)\n",
        "else:\n",
        "    print(\"Else!\")"
      ],
      "execution_count": 0,
      "outputs": [
        {
          "output_type": "stream",
          "text": [
            "0\n",
            "1\n",
            "2\n",
            "3\n",
            "4\n"
          ],
          "name": "stdout"
        }
      ]
    },
    {
      "cell_type": "code",
      "metadata": {
        "id": "-BdR83IUdfbN",
        "colab_type": "code",
        "colab": {}
      },
      "source": [
        ""
      ],
      "execution_count": 0,
      "outputs": []
    }
  ]
}