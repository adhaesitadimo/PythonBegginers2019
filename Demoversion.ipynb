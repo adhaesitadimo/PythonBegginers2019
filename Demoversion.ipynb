{
  "nbformat": 4,
  "nbformat_minor": 0,
  "metadata": {
    "colab": {
      "name": "Demoversion.ipynb",
      "provenance": []
    },
    "kernelspec": {
      "name": "python3",
      "display_name": "Python 3"
    }
  },
  "cells": [
    {
      "cell_type": "markdown",
      "metadata": {
        "id": "zcm5QjfXocco",
        "colab_type": "text"
      },
      "source": [
        "# Расписание звонков"
      ]
    },
    {
      "cell_type": "markdown",
      "metadata": {
        "id": "X59KHPFfq1WJ",
        "colab_type": "text"
      },
      "source": [
        ""
      ]
    },
    {
      "cell_type": "code",
      "metadata": {
        "id": "s6ouIsHEoio2",
        "colab_type": "code",
        "outputId": "aaa663a5-8785-4582-f0f0-7b9a958ca718",
        "colab": {
          "base_uri": "https://localhost:8080/",
          "height": 51
        }
      },
      "source": [
        "n = int(input())\n",
        "\n",
        "ans = 9 * 60\n",
        "ans += n * 45 + (n // 2) * 15 + (n // 2 + n % 2) * 5 - 15 + n % 2 * 10\n",
        "\n",
        "print(ans // 60, ans % 60)"
      ],
      "execution_count": 0,
      "outputs": [
        {
          "output_type": "stream",
          "text": [
            "2\n",
            "10 35\n"
          ],
          "name": "stdout"
        }
      ]
    },
    {
      "cell_type": "markdown",
      "metadata": {
        "id": "3_cde6CltChd",
        "colab_type": "text"
      },
      "source": [
        "# Парты"
      ]
    },
    {
      "cell_type": "code",
      "metadata": {
        "id": "WKmileyTq6sN",
        "colab_type": "code",
        "outputId": "9f45f2b0-1eb0-462c-f5f8-d11ca6d0ec8e",
        "colab": {
          "base_uri": "https://localhost:8080/",
          "height": 85
        }
      },
      "source": [
        "st1 = int(input())\n",
        "st2 = int(input())\n",
        "st3 = int(input())\n",
        "\n",
        "d1 = st1 // 2 + st1 % 2\n",
        "d2 = st2 // 2 + st2 % 2\n",
        "d3 = st3 // 2 + st3 % 2\n",
        "\n",
        "print(d1 + d2 + d3)"
      ],
      "execution_count": 0,
      "outputs": [
        {
          "output_type": "stream",
          "text": [
            "20\n",
            "21\n",
            "2\n",
            "10 11 1\n"
          ],
          "name": "stdout"
        }
      ]
    },
    {
      "cell_type": "markdown",
      "metadata": {
        "id": "0LSRQyCQ29CM",
        "colab_type": "text"
      },
      "source": [
        "# Треугольники"
      ]
    },
    {
      "cell_type": "code",
      "metadata": {
        "id": "UyQKLi-CteQW",
        "colab_type": "code",
        "colab": {}
      },
      "source": [
        "a, b, c = int(input()), int(input()), int(input())\n",
        "\n",
        "if c < a + b and a < b + c and b < a + c:\n",
        "  print('YES')\n",
        "else:\n",
        "  print('NO')"
      ],
      "execution_count": 0,
      "outputs": []
    },
    {
      "cell_type": "code",
      "metadata": {
        "id": "ocfvggcSuAYq",
        "colab_type": "code",
        "colab": {}
      },
      "source": [
        ""
      ],
      "execution_count": 0,
      "outputs": []
    },
    {
      "cell_type": "markdown",
      "metadata": {
        "id": "YR4Mp1xV3Ack",
        "colab_type": "text"
      },
      "source": [
        "# Пишем чекер"
      ]
    },
    {
      "cell_type": "code",
      "metadata": {
        "id": "sfbKVyqU3E4n",
        "colab_type": "code",
        "colab": {}
      },
      "source": [
        ""
      ],
      "execution_count": 0,
      "outputs": []
    }
  ]
}