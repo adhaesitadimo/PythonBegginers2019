{
  "nbformat": 4,
  "nbformat_minor": 0,
  "metadata": {
    "colab": {
      "name": "Seminar7Containers.ipynb",
      "provenance": []
    },
    "kernelspec": {
      "name": "python3",
      "display_name": "Python 3"
    }
  },
  "cells": [
    {
      "cell_type": "markdown",
      "metadata": {
        "id": "N1TXDlNs2yRt",
        "colab_type": "text"
      },
      "source": [
        "# Контесты 7 и 8\n",
        "\n",
        "<b>ДЗ 7. Списки:</b> https://contest.yandex.ru/contest/14388\n",
        "\n",
        "Дедлайн: <b>13.10.2019 в 13:40</b>\n",
        "\n",
        "<b>ДЗ 8. Линейный поиск и сортировка:</b> https://contest.yandex.ru/contest/14389\n",
        "\n",
        "Дедлайн: <b>13.10.2019 в 15:10</b>"
      ]
    },
    {
      "cell_type": "markdown",
      "metadata": {
        "id": "JUoGhhyG1X0n",
        "colab_type": "text"
      },
      "source": [
        "## Контейнеры и что про них нужно знать.  Списки и словари"
      ]
    },
    {
      "cell_type": "markdown",
      "metadata": {
        "id": "ngnIeYw-1X0o",
        "colab_type": "text"
      },
      "source": [
        "Очень частая, даже обыденная ситуация заключается в том, что нужно хранить сразу много объектов одного типа в одном месте. Для этого существует целая плеяда типов данных, которые собирательно называются <b>\"контейнерами\"</b> (англ. contain &mdash; содержать).\n",
        "\n",
        "<img src='https://media.giphy.com/media/huWcRHuN4LCQE/giphy.gif'>"
      ]
    },
    {
      "cell_type": "markdown",
      "metadata": {
        "id": "8eeDQ9I88kO8",
        "colab_type": "text"
      },
      "source": [
        "## Список"
      ]
    },
    {
      "cell_type": "markdown",
      "metadata": {
        "id": "utiOmlDT1X0p",
        "colab_type": "text"
      },
      "source": [
        "\n",
        "\n",
        "Чтобы создать список из элементов, используются квадратные скобки []"
      ]
    },
    {
      "cell_type": "code",
      "metadata": {
        "id": "lFM3Gnls1X0q",
        "colab_type": "code",
        "colab": {}
      },
      "source": [
        "mylist = [1, 3, 2, 4]\n",
        "mylist_strings = ['la', 'la', 1, 'land']"
      ],
      "execution_count": 0,
      "outputs": []
    },
    {
      "cell_type": "markdown",
      "metadata": {
        "id": "bFMQLcks1X0s",
        "colab_type": "text"
      },
      "source": [
        "<b>Список</b> работает так: у вас есть набор объектов, вы помещаете их в list, и каждый объект получает <b>индекс</b>, совпадающий с его порядковым номером в списке слева направо, при этом (это важно) <b>порядок начинается с нуля</b>. Итого, про у каждого объекта в списке есть\n",
        "\n",
        "- его значение (он сам)\n",
        "- его индекс\n",
        "\n",
        "Вопспринимайте индекс как \"адрес\" элемента в массиве. Если известен индекс, по нему можно <b>\"обратиться\"</b>, то есть вы называете индекс объекта в массиве &mdash; и получаете его значение. Делается это указыванием индекса в квадратных скобках после наименования списка, где объект лежит, вот так:"
      ]
    },
    {
      "cell_type": "code",
      "metadata": {
        "id": "zsFxTdSu1X0s",
        "colab_type": "code",
        "outputId": "be97986a-d515-4e37-edc4-34d812b7c44d",
        "colab": {
          "base_uri": "https://localhost:8080/",
          "height": 34
        }
      },
      "source": [
        "mylist[1]"
      ],
      "execution_count": 0,
      "outputs": [
        {
          "output_type": "execute_result",
          "data": {
            "text/plain": [
              "3"
            ]
          },
          "metadata": {
            "tags": []
          },
          "execution_count": 3
        }
      ]
    },
    {
      "cell_type": "markdown",
      "metadata": {
        "id": "XNj3pOP71X0u",
        "colab_type": "text"
      },
      "source": [
        "Мы только что извлекли элемент списка <i>mylist</i> с индексом 1 (т.е. второй по порядку)."
      ]
    },
    {
      "cell_type": "markdown",
      "metadata": {
        "id": "XQrqfQpF1X0u",
        "colab_type": "text"
      },
      "source": [
        "Можно извлечь несколько подряд идущих объектов, указав индекс первого и (внимание!) <b>индекс последнего, увеличенный на один</b>. Это называется <b>срезом</b> (англ. slice). Срез прописывается почти так же, как и обращение по индексу.\n",
        "\n",
        "То есть, если мы хотим получить элементы <i>mylist</i> с индексами 1 и 2, нужно указать срез 1:3. Делается это так "
      ]
    },
    {
      "cell_type": "code",
      "metadata": {
        "id": "PLy0t-Ki1X0u",
        "colab_type": "code",
        "outputId": "999d39d2-9abb-4ff5-f4cd-9e502ae9aa1f",
        "colab": {
          "base_uri": "https://localhost:8080/",
          "height": 34
        }
      },
      "source": [
        "mylist[1:3]"
      ],
      "execution_count": 0,
      "outputs": [
        {
          "output_type": "execute_result",
          "data": {
            "text/plain": [
              "[3, 2]"
            ]
          },
          "metadata": {
            "tags": []
          },
          "execution_count": 4
        }
      ]
    },
    {
      "cell_type": "markdown",
      "metadata": {
        "id": "e8IzZ3SD1X0w",
        "colab_type": "text"
      },
      "source": [
        "Обратите внимание, что на выходе получаем <b>список</b> из нужных элементов.\n",
        "\n",
        "Можно обращаться по индексу и справа налево. Тогда нумерация идет с -1 по убыванию. То есть вот так можно получить последний элемент массива, если вам неохота считать, какой он по порядку"
      ]
    },
    {
      "cell_type": "code",
      "metadata": {
        "id": "nlAXU2cb1X0x",
        "colab_type": "code",
        "outputId": "905e6d8e-e10e-4cd0-8cd4-4045d3376fd7",
        "colab": {
          "base_uri": "https://localhost:8080/",
          "height": 34
        }
      },
      "source": [
        "mylist[-1]"
      ],
      "execution_count": 0,
      "outputs": [
        {
          "output_type": "execute_result",
          "data": {
            "text/plain": [
              "4"
            ]
          },
          "metadata": {
            "tags": []
          },
          "execution_count": 5
        }
      ]
    },
    {
      "cell_type": "markdown",
      "metadata": {
        "id": "uzP-Dz_B1X0y",
        "colab_type": "text"
      },
      "source": [
        "А вот так &mdash; предпоследний"
      ]
    },
    {
      "cell_type": "code",
      "metadata": {
        "id": "7PJ776961X0y",
        "colab_type": "code",
        "outputId": "c9a83f3d-87f7-4bc7-8d0d-d2178c231901",
        "colab": {
          "base_uri": "https://localhost:8080/",
          "height": 34
        }
      },
      "source": [
        "mylist[-2]"
      ],
      "execution_count": 0,
      "outputs": [
        {
          "output_type": "execute_result",
          "data": {
            "text/plain": [
              "2"
            ]
          },
          "metadata": {
            "tags": []
          },
          "execution_count": 6
        }
      ]
    },
    {
      "cell_type": "markdown",
      "metadata": {
        "id": "RTOduAA31X00",
        "colab_type": "text"
      },
      "source": [
        "И так далее.\n",
        "\n",
        "Мы разобрались, как получать информацию из списка, теперь разберемся, как поменять что-то в списке.\n",
        "\n",
        "Элементам списка могут <b>присваиваться</b> новые значения, точно так же и таким же образом, как и было с <b>переменными</b> ранее. Только сначала нужно к элементу обратиться.\n",
        "\n",
        "Вот к примеру, хотим поменять второй элемент массива (индекс у него, как вы помните, 1). Тогда нужно сначала обратиться по индексу 1 списка, а потом присвоить ему новое значение. Вот так:"
      ]
    },
    {
      "cell_type": "code",
      "metadata": {
        "id": "knDHFkM_1X02",
        "colab_type": "code",
        "outputId": "75571d5c-7783-4a2a-d536-e7e549936452",
        "colab": {
          "base_uri": "https://localhost:8080/",
          "height": 34
        }
      },
      "source": [
        "mylist[1] = 5\n",
        "print(mylist)"
      ],
      "execution_count": 0,
      "outputs": [
        {
          "output_type": "stream",
          "text": [
            "[1, 5, 2, 4]\n"
          ],
          "name": "stdout"
        }
      ]
    },
    {
      "cell_type": "markdown",
      "metadata": {
        "id": "vOTVApJ31X04",
        "colab_type": "text"
      },
      "source": [
        "Видим, что второй элемент списка поменял своё значение на 5.\n",
        "\n",
        "Допустим, мы хотим добавить в список еще элемент. Делается это обычно с помощью метода <b>append()</b>, применяемого к списку: на вход ему подаём элемент, который хотим вставить, на выход не получаем ничего, но при этом в сам список <b>в конце</b> добавляется новый элемент."
      ]
    },
    {
      "cell_type": "code",
      "metadata": {
        "id": "cB01U4h81X05",
        "colab_type": "code",
        "outputId": "fbf40027-2104-451a-a7ac-12ac22467508",
        "colab": {
          "base_uri": "https://localhost:8080/",
          "height": 34
        }
      },
      "source": [
        "mylist.append(6)\n",
        "print(mylist)"
      ],
      "execution_count": 0,
      "outputs": [
        {
          "output_type": "stream",
          "text": [
            "[1, 5, 2, 4, 6]\n"
          ],
          "name": "stdout"
        }
      ]
    },
    {
      "cell_type": "markdown",
      "metadata": {
        "id": "oZgI5PB27R1d",
        "colab_type": "text"
      },
      "source": [
        "Если необходимо добавить элемент в какое-то произвольное место списка, используем метод <b>insert</b>"
      ]
    },
    {
      "cell_type": "code",
      "metadata": {
        "id": "yIBpoS4I7cqM",
        "colab_type": "code",
        "outputId": "b764756e-13b4-4f19-938f-c3a35f30c6b5",
        "colab": {
          "base_uri": "https://localhost:8080/",
          "height": 34
        }
      },
      "source": [
        "mylist.insert(3, 5)\n",
        "print(mylist)"
      ],
      "execution_count": 0,
      "outputs": [
        {
          "output_type": "stream",
          "text": [
            "[1, 5, 2, 5, 4, 6]\n"
          ],
          "name": "stdout"
        }
      ]
    },
    {
      "cell_type": "markdown",
      "metadata": {
        "id": "BT4wYlaf49Oz",
        "colab_type": "text"
      },
      "source": [
        "Чтобы удалить элемент из массива, используется метод <b>remove()</b>. В скобках передается желаемый элемент на удаление. При условии нескольких вхождений удаляется только первое!"
      ]
    },
    {
      "cell_type": "code",
      "metadata": {
        "id": "-qdS2URF5Z_C",
        "colab_type": "code",
        "outputId": "da5bf63a-157c-4843-c08f-2227acb2052f",
        "colab": {
          "base_uri": "https://localhost:8080/",
          "height": 34
        }
      },
      "source": [
        "mylist.remove(2)\n",
        "print(mylist)"
      ],
      "execution_count": 0,
      "outputs": [
        {
          "output_type": "stream",
          "text": [
            "[1, 5, 4, 6]\n"
          ],
          "name": "stdout"
        }
      ]
    },
    {
      "cell_type": "markdown",
      "metadata": {
        "id": "8QMr8kN153CY",
        "colab_type": "text"
      },
      "source": [
        "Если известен индекс удаляемого элемента, но не известно значение, можно использовать метод <b>del</b>. Обратите внимание на то, что синтаксис немного другой."
      ]
    },
    {
      "cell_type": "code",
      "metadata": {
        "id": "W8n090XG6OKt",
        "colab_type": "code",
        "outputId": "9f8250a3-1507-4d65-a8a3-7a558b4ddd90",
        "colab": {
          "base_uri": "https://localhost:8080/",
          "height": 34
        }
      },
      "source": [
        "del(mylist[1])\n",
        "print(mylist)"
      ],
      "execution_count": 0,
      "outputs": [
        {
          "output_type": "stream",
          "text": [
            "[1, 4, 6]\n"
          ],
          "name": "stdout"
        }
      ]
    },
    {
      "cell_type": "markdown",
      "metadata": {
        "id": "5MI543SG7oe0",
        "colab_type": "text"
      },
      "source": [
        "Так же можно подобно стэкам доставать последний элемент массива функцией <b>pop()</b>"
      ]
    },
    {
      "cell_type": "code",
      "metadata": {
        "id": "mixppohz7ynx",
        "colab_type": "code",
        "outputId": "5579d5ab-b9fb-43ff-b207-4eab04bb5b04",
        "colab": {
          "base_uri": "https://localhost:8080/",
          "height": 34
        }
      },
      "source": [
        "mylist.pop()\n",
        "print(mylist)"
      ],
      "execution_count": 0,
      "outputs": [
        {
          "output_type": "stream",
          "text": [
            "[1, 4]\n"
          ],
          "name": "stdout"
        }
      ]
    },
    {
      "cell_type": "markdown",
      "metadata": {
        "id": "UfTPN-Y31X06",
        "colab_type": "text"
      },
      "source": [
        "Ну и наконец, спискам подвластны некоторые арифметические операции - те же сложение и умножение на целое число"
      ]
    },
    {
      "cell_type": "code",
      "metadata": {
        "id": "EDDl_4pu1X06",
        "colab_type": "code",
        "outputId": "a747e706-6bbc-4272-b0c3-318072ea2beb",
        "colab": {
          "base_uri": "https://localhost:8080/",
          "height": 34
        }
      },
      "source": [
        "list1 = ['la']\n",
        "list2 = ['la', 'land']\n",
        "print(list1 + list2)"
      ],
      "execution_count": 0,
      "outputs": [
        {
          "output_type": "stream",
          "text": [
            "['la', 'la', 'land']\n"
          ],
          "name": "stdout"
        }
      ]
    },
    {
      "cell_type": "code",
      "metadata": {
        "id": "t1fyzJjp1X08",
        "colab_type": "code",
        "outputId": "8abdcb64-f93d-4541-a13c-c0ccc24df2f5",
        "colab": {
          "base_uri": "https://localhost:8080/",
          "height": 34
        }
      },
      "source": [
        "print(list1 * 3)"
      ],
      "execution_count": 0,
      "outputs": [
        {
          "output_type": "stream",
          "text": [
            "['la', 'la', 'la']\n"
          ],
          "name": "stdout"
        }
      ]
    },
    {
      "cell_type": "markdown",
      "metadata": {
        "id": "TGU5_tgw1X09",
        "colab_type": "text"
      },
      "source": [
        "Количество элементов (\"длину\") списка можно померить с помощью метода <b>len()</b>"
      ]
    },
    {
      "cell_type": "code",
      "metadata": {
        "id": "1eC143cJ1X09",
        "colab_type": "code",
        "outputId": "4b7aa6b6-995a-4260-f5e9-139c6998e699",
        "colab": {
          "base_uri": "https://localhost:8080/",
          "height": 51
        }
      },
      "source": [
        "print(mylist)\n",
        "len(mylist)"
      ],
      "execution_count": 0,
      "outputs": [
        {
          "output_type": "stream",
          "text": [
            "[1, 4]\n"
          ],
          "name": "stdout"
        },
        {
          "output_type": "execute_result",
          "data": {
            "text/plain": [
              "2"
            ]
          },
          "metadata": {
            "tags": []
          },
          "execution_count": 17
        }
      ]
    },
    {
      "cell_type": "markdown",
      "metadata": {
        "id": "ytcG2mzn8c3G",
        "colab_type": "text"
      },
      "source": [
        "## Словари"
      ]
    },
    {
      "cell_type": "markdown",
      "metadata": {
        "id": "9FuMNSpC1X0_",
        "colab_type": "text"
      },
      "source": [
        "Теперь о словарях (dict)\n",
        "\n",
        "<img src='https://media.giphy.com/media/l2Je66zG6mAAZxgqI/giphy.gif'>"
      ]
    },
    {
      "cell_type": "markdown",
      "metadata": {
        "id": "qD16W4mj1X0_",
        "colab_type": "text"
      },
      "source": [
        "Предположим, что возникла ситуация, когда нам не слишком удобно использовать индексы для обращения к элементам и мы хотим использовать что-то интуитивно понятнее. К примеру у нас есть несколько животных, и у них есть клички:\n",
        "\n",
        "- собака Снупи\n",
        "- кот Гарфилд\n",
        "- рыбка Немо\n",
        "- мышь Микки\n",
        "\n",
        "Куда логичнее не присваивать им номера, а присвоить им их билогические определения. Для того и есть словари! Создаются Они с помощью фигурных скобок <b>{}</b>"
      ]
    },
    {
      "cell_type": "code",
      "metadata": {
        "id": "bXo6WK9I1X0_",
        "colab_type": "code",
        "colab": {}
      },
      "source": [
        "pets_dict = {'Dog' : 'Snoopy', 'Cat' : 'Garfield', 'Fish': 'Nemo', 'Mouse': 'Mickey'}\n",
        "nums_dict = {'one': 1, 'two': 2, 'five': 5, 'six': 6, 'eight': 8, 'nine': 9}"
      ],
      "execution_count": 0,
      "outputs": []
    },
    {
      "cell_type": "markdown",
      "metadata": {
        "id": "kynuYKVd1X1B",
        "colab_type": "text"
      },
      "source": [
        "Тут идея такая: в отличие от списка, у каждого объекта есть не индекс, а некоторый <b>\"ключ\"</b>, который может быть, например, строкой или числом. И каждый элемент словаря будет представлять из себя такую пару \"ключ:значение(объект)\". Обращаемся, соотвественно, уже не по индексу, а по заданному ключу. Например, хотим получить Гарфилда из словаря питомцев, тогда обращаемся к словарю по ключу \"Кот\", как делали со списками"
      ]
    },
    {
      "cell_type": "code",
      "metadata": {
        "id": "5yVqkUsW1X1B",
        "colab_type": "code",
        "outputId": "f1537f68-7f31-4495-9f28-ead6fbe966ed",
        "colab": {
          "base_uri": "https://localhost:8080/",
          "height": 34
        }
      },
      "source": [
        "pets_dict['Cat']"
      ],
      "execution_count": 0,
      "outputs": [
        {
          "output_type": "execute_result",
          "data": {
            "text/plain": [
              "'Garfield'"
            ]
          },
          "metadata": {
            "tags": []
          },
          "execution_count": 20
        }
      ]
    },
    {
      "cell_type": "markdown",
      "metadata": {
        "id": "K3n_PvZ51X1C",
        "colab_type": "text"
      },
      "source": [
        "Все ключи можно получить применением метода <b>keys()</b> к словарю"
      ]
    },
    {
      "cell_type": "code",
      "metadata": {
        "id": "8rEtiIff1X1D",
        "colab_type": "code",
        "outputId": "5dfcd62e-9e60-4ee4-bf67-ca93bccb838a",
        "colab": {
          "base_uri": "https://localhost:8080/",
          "height": 34
        }
      },
      "source": [
        "print(pets_dict.keys())"
      ],
      "execution_count": 0,
      "outputs": [
        {
          "output_type": "stream",
          "text": [
            "dict_keys(['Dog', 'Cat', 'Fish', 'Mouse'])\n"
          ],
          "name": "stdout"
        }
      ]
    },
    {
      "cell_type": "markdown",
      "metadata": {
        "id": "BTMY9sB71X1D",
        "colab_type": "text"
      },
      "source": [
        "Ну и добавлять элементы в словарь можно присваиванием по тому ключу, который мы хотим иметь для нового элемента."
      ]
    },
    {
      "cell_type": "code",
      "metadata": {
        "id": "ob5JlKiG1X1E",
        "colab_type": "code",
        "colab": {}
      },
      "source": [
        "pets_dict['Woodpecker'] = 'Woody'"
      ],
      "execution_count": 0,
      "outputs": []
    },
    {
      "cell_type": "markdown",
      "metadata": {
        "id": "UPqfka2Q1X1F",
        "colab_type": "text"
      },
      "source": [
        "Так, в словаре про питомцев появилась запись о Вуди с ключом \"Дятел\""
      ]
    },
    {
      "cell_type": "code",
      "metadata": {
        "id": "7lZdZDco1X1F",
        "colab_type": "code",
        "outputId": "4417c3e1-59dc-47e2-a906-7d8f3f99f5d9",
        "colab": {
          "base_uri": "https://localhost:8080/",
          "height": 103
        }
      },
      "source": [
        "pets_dict"
      ],
      "execution_count": 0,
      "outputs": [
        {
          "output_type": "execute_result",
          "data": {
            "text/plain": [
              "{'Cat': 'Garfield',\n",
              " 'Dog': 'Snoopy',\n",
              " 'Fish': 'Nemo',\n",
              " 'Mouse': 'Mickey',\n",
              " 'Woodpecker': 'Woody'}"
            ]
          },
          "metadata": {
            "tags": []
          },
          "execution_count": 23
        }
      ]
    },
    {
      "cell_type": "markdown",
      "metadata": {
        "id": "t4xQx9bQFn7_",
        "colab_type": "text"
      },
      "source": [
        "# Кортеж"
      ]
    },
    {
      "cell_type": "markdown",
      "metadata": {
        "id": "XSbV04JT-Aj9",
        "colab_type": "text"
      },
      "source": [
        "Кортежи - объекты, которые очень похожи на списки. Их главное отличие - они не изменяемы. В питоне они обозначаются также, как и списки, только скобки нужно использовать круглые"
      ]
    },
    {
      "cell_type": "code",
      "metadata": {
        "id": "t9SNsU6FFn8A",
        "colab_type": "code",
        "outputId": "7391e4e8-fb3e-432b-a24a-c0ada3109851",
        "colab": {
          "base_uri": "https://localhost:8080/",
          "height": 34
        }
      },
      "source": [
        "a = (1, 2, 3) # кортеж из чисел 1, 2, 3\n",
        "print(a)"
      ],
      "execution_count": 0,
      "outputs": [
        {
          "output_type": "stream",
          "text": [
            "(1, 2, 3)\n"
          ],
          "name": "stdout"
        }
      ]
    },
    {
      "cell_type": "code",
      "metadata": {
        "id": "Xa9WArYHFn8B",
        "colab_type": "code",
        "outputId": "aeac12ab-5fcd-4071-f953-a07703f7e899",
        "colab": {
          "base_uri": "https://localhost:8080/",
          "height": 182
        }
      },
      "source": [
        "a = (1, 2, \"Hello\", None)\n",
        "a[0] = 5 # не получается изменить"
      ],
      "execution_count": 0,
      "outputs": [
        {
          "output_type": "error",
          "ename": "TypeError",
          "evalue": "ignored",
          "traceback": [
            "\u001b[0;31m---------------------------------------------------------------------------\u001b[0m",
            "\u001b[0;31mTypeError\u001b[0m                                 Traceback (most recent call last)",
            "\u001b[0;32m<ipython-input-25-8e8a1dbc826e>\u001b[0m in \u001b[0;36m<module>\u001b[0;34m()\u001b[0m\n\u001b[1;32m      1\u001b[0m \u001b[0ma\u001b[0m \u001b[0;34m=\u001b[0m \u001b[0;34m(\u001b[0m\u001b[0;36m1\u001b[0m\u001b[0;34m,\u001b[0m \u001b[0;36m2\u001b[0m\u001b[0;34m,\u001b[0m \u001b[0;34m\"Hello\"\u001b[0m\u001b[0;34m,\u001b[0m \u001b[0;32mNone\u001b[0m\u001b[0;34m)\u001b[0m\u001b[0;34m\u001b[0m\u001b[0;34m\u001b[0m\u001b[0m\n\u001b[0;32m----> 2\u001b[0;31m \u001b[0ma\u001b[0m\u001b[0;34m[\u001b[0m\u001b[0;36m0\u001b[0m\u001b[0;34m]\u001b[0m \u001b[0;34m=\u001b[0m \u001b[0;36m5\u001b[0m \u001b[0;31m# не получается изменить\u001b[0m\u001b[0;34m\u001b[0m\u001b[0;34m\u001b[0m\u001b[0m\n\u001b[0m",
            "\u001b[0;31mTypeError\u001b[0m: 'tuple' object does not support item assignment"
          ]
        }
      ]
    },
    {
      "cell_type": "code",
      "metadata": {
        "id": "lDxgYeT9Fn8D",
        "colab_type": "code",
        "outputId": "049357c9-e6bf-4a8a-e64c-b2833996d13b",
        "colab": {
          "base_uri": "https://localhost:8080/",
          "height": 34
        }
      },
      "source": [
        "type(a)"
      ],
      "execution_count": 0,
      "outputs": [
        {
          "output_type": "execute_result",
          "data": {
            "text/plain": [
              "tuple"
            ]
          },
          "metadata": {
            "tags": []
          },
          "execution_count": 26
        }
      ]
    },
    {
      "cell_type": "code",
      "metadata": {
        "id": "7O9hubMvFn8E",
        "colab_type": "code",
        "outputId": "eeaf15dd-89b8-494c-e8e8-c8b74e86500b",
        "colab": {
          "base_uri": "https://localhost:8080/",
          "height": 34
        }
      },
      "source": [
        "len(a)"
      ],
      "execution_count": 0,
      "outputs": [
        {
          "output_type": "execute_result",
          "data": {
            "text/plain": [
              "4"
            ]
          },
          "metadata": {
            "tags": []
          },
          "execution_count": 27
        }
      ]
    },
    {
      "cell_type": "code",
      "metadata": {
        "id": "egZQiMV2Fn8G",
        "colab_type": "code",
        "outputId": "170a9017-8eaf-47da-d9ae-9a587b324ab8",
        "colab": {
          "base_uri": "https://localhost:8080/",
          "height": 34
        }
      },
      "source": [
        "a[2]"
      ],
      "execution_count": 0,
      "outputs": [
        {
          "output_type": "execute_result",
          "data": {
            "text/plain": [
              "'Hello'"
            ]
          },
          "metadata": {
            "tags": []
          },
          "execution_count": 28
        }
      ]
    },
    {
      "cell_type": "code",
      "metadata": {
        "id": "Xi_miclnFn8I",
        "colab_type": "code",
        "outputId": "e878442b-9c16-497f-8250-974ea2225769",
        "colab": {
          "base_uri": "https://localhost:8080/",
          "height": 86
        }
      },
      "source": [
        "for i in a:\n",
        "    print(i)"
      ],
      "execution_count": 0,
      "outputs": [
        {
          "output_type": "stream",
          "text": [
            "1\n",
            "2\n",
            "Hello\n",
            "None\n"
          ],
          "name": "stdout"
        }
      ]
    },
    {
      "cell_type": "markdown",
      "metadata": {
        "id": "plgjeSgo-G4P",
        "colab_type": "text"
      },
      "source": [
        "Одна из приятных особенностей - кортежи можно присваивать друг другу"
      ]
    },
    {
      "cell_type": "code",
      "metadata": {
        "id": "ZUQwVY92Fn8M",
        "colab_type": "code",
        "outputId": "a409a089-e37b-4b7a-dc13-4c5918da7f89",
        "colab": {
          "base_uri": "https://localhost:8080/",
          "height": 51
        }
      },
      "source": [
        "(a, b) = (5, 10)\n",
        "print(a)\n",
        "print(b)"
      ],
      "execution_count": 0,
      "outputs": [
        {
          "output_type": "stream",
          "text": [
            "5\n",
            "10\n"
          ],
          "name": "stdout"
        }
      ]
    },
    {
      "cell_type": "markdown",
      "metadata": {
        "id": "p4D1WUhb-Paz",
        "colab_type": "text"
      },
      "source": [
        "При наличии запятой, скобки можно опустить"
      ]
    },
    {
      "cell_type": "code",
      "metadata": {
        "id": "Dyb9JaeIFn8O",
        "colab_type": "code",
        "outputId": "10362e1c-95e4-4700-da47-ce159c29f647",
        "colab": {
          "base_uri": "https://localhost:8080/",
          "height": 51
        }
      },
      "source": [
        "a, b = 5, 10\n",
        "print(a)\n",
        "print(b)"
      ],
      "execution_count": 0,
      "outputs": [
        {
          "output_type": "stream",
          "text": [
            "5\n",
            "10\n"
          ],
          "name": "stdout"
        }
      ]
    },
    {
      "cell_type": "code",
      "metadata": {
        "id": "myAyXR2KFn8P",
        "colab_type": "code",
        "outputId": "7ca9ee18-a118-4f0b-e023-03270a8d0d1f",
        "colab": {
          "base_uri": "https://localhost:8080/",
          "height": 51
        }
      },
      "source": [
        "a = 7\n",
        "b = 3\n",
        "a, b = b, a # таким образом, можно поменять значения двух переменных одной строчкой\n",
        "print(a)\n",
        "print(b)\n"
      ],
      "execution_count": 0,
      "outputs": [
        {
          "output_type": "stream",
          "text": [
            "3\n",
            "7\n"
          ],
          "name": "stdout"
        }
      ]
    },
    {
      "cell_type": "markdown",
      "metadata": {
        "id": "UFe6gnaj-XF2",
        "colab_type": "text"
      },
      "source": [
        "Если из функции возвращаются несколько значений, на самом деле это будет являться кортежем"
      ]
    },
    {
      "cell_type": "code",
      "metadata": {
        "id": "OMK1kd9l-d0R",
        "colab_type": "code",
        "outputId": "78284d7e-5f98-412d-9f41-1430a4263fc4",
        "colab": {
          "base_uri": "https://localhost:8080/",
          "height": 34
        }
      },
      "source": [
        "def quotient_remainder(x, y):\n",
        "    return x // y, x % y\n",
        "\n",
        "q, r = quotient_remainder(7, 3)\n",
        "\n",
        "print(q, r)"
      ],
      "execution_count": 0,
      "outputs": [
        {
          "output_type": "stream",
          "text": [
            "2 1\n"
          ],
          "name": "stdout"
        }
      ]
    },
    {
      "cell_type": "code",
      "metadata": {
        "id": "O_ObOx1_lkjF",
        "colab_type": "code",
        "colab": {}
      },
      "source": [
        ""
      ],
      "execution_count": 0,
      "outputs": []
    }
  ]
}