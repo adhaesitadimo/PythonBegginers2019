{
  "nbformat": 4,
  "nbformat_minor": 0,
  "metadata": {
    "colab": {
      "name": "ExamDemo.ipynb",
      "provenance": []
    },
    "kernelspec": {
      "name": "python3",
      "display_name": "Python 3"
    }
  },
  "cells": [
    {
      "cell_type": "markdown",
      "metadata": {
        "id": "nnMkeT8Bu4lF",
        "colab_type": "text"
      },
      "source": [
        "# Светофор"
      ]
    },
    {
      "cell_type": "code",
      "metadata": {
        "id": "WkbRdJpvu-N7",
        "colab_type": "code",
        "colab": {
          "base_uri": "https://localhost:8080/",
          "height": 53
        },
        "outputId": "c3b96a0f-779d-4876-f602-b1b1f5ae4218"
      },
      "source": [
        "green = int(input())\n",
        "\n",
        "red = green\n",
        "yellow = green * 2 - 1\n",
        "\n",
        "print(red, yellow)\n"
      ],
      "execution_count": 3,
      "outputs": [
        {
          "output_type": "stream",
          "text": [
            "3\n",
            "3 5\n"
          ],
          "name": "stdout"
        }
      ]
    },
    {
      "cell_type": "markdown",
      "metadata": {
        "id": "KDKGj5DmwWn6",
        "colab_type": "text"
      },
      "source": [
        "# Замечательные числа"
      ]
    },
    {
      "cell_type": "code",
      "metadata": {
        "id": "gkBtIHICvtMo",
        "colab_type": "code",
        "colab": {
          "base_uri": "https://localhost:8080/",
          "height": 244
        },
        "outputId": "4a373a93-801c-4c11-e1f3-a2ecf2ab5d1b"
      },
      "source": [
        "with open('input.txt', 'r') as inp:\n",
        "    a = int(inp.readline().strip())\n",
        "    b = int(inp.readline().strip())\n",
        "\n",
        "\n",
        "with open('output.txt', 'w') as outp:\n",
        "    for num in range(a, b + 1):\n",
        "        unique = set(str(num))\n",
        "        for digit in unique:\n",
        "            if str(num).count(digit) == 3:\n",
        "                outp.write(str(num) + '\\n')"
      ],
      "execution_count": 1,
      "outputs": [
        {
          "output_type": "error",
          "ename": "FileNotFoundError",
          "evalue": "ignored",
          "traceback": [
            "\u001b[0;31m---------------------------------------------------------------------------\u001b[0m",
            "\u001b[0;31mFileNotFoundError\u001b[0m                         Traceback (most recent call last)",
            "\u001b[0;32m<ipython-input-1-c1f44f450374>\u001b[0m in \u001b[0;36m<module>\u001b[0;34m()\u001b[0m\n\u001b[0;32m----> 1\u001b[0;31m \u001b[0;32mwith\u001b[0m \u001b[0mopen\u001b[0m\u001b[0;34m(\u001b[0m\u001b[0;34m'input.txt'\u001b[0m\u001b[0;34m,\u001b[0m \u001b[0;34m'r'\u001b[0m\u001b[0;34m)\u001b[0m \u001b[0;32mas\u001b[0m \u001b[0minp\u001b[0m\u001b[0;34m:\u001b[0m\u001b[0;34m\u001b[0m\u001b[0;34m\u001b[0m\u001b[0m\n\u001b[0m\u001b[1;32m      2\u001b[0m     \u001b[0ma\u001b[0m \u001b[0;34m=\u001b[0m \u001b[0mint\u001b[0m\u001b[0;34m(\u001b[0m\u001b[0minp\u001b[0m\u001b[0;34m.\u001b[0m\u001b[0mreadline\u001b[0m\u001b[0;34m(\u001b[0m\u001b[0;34m)\u001b[0m\u001b[0;34m.\u001b[0m\u001b[0mstrip\u001b[0m\u001b[0;34m(\u001b[0m\u001b[0;34m)\u001b[0m\u001b[0;34m)\u001b[0m\u001b[0;34m\u001b[0m\u001b[0;34m\u001b[0m\u001b[0m\n\u001b[1;32m      3\u001b[0m     \u001b[0mb\u001b[0m \u001b[0;34m=\u001b[0m \u001b[0mint\u001b[0m\u001b[0;34m(\u001b[0m\u001b[0minp\u001b[0m\u001b[0;34m.\u001b[0m\u001b[0mreadline\u001b[0m\u001b[0;34m(\u001b[0m\u001b[0;34m)\u001b[0m\u001b[0;34m.\u001b[0m\u001b[0mstrip\u001b[0m\u001b[0;34m(\u001b[0m\u001b[0;34m)\u001b[0m\u001b[0;34m)\u001b[0m\u001b[0;34m\u001b[0m\u001b[0;34m\u001b[0m\u001b[0m\n\u001b[1;32m      4\u001b[0m \u001b[0;34m\u001b[0m\u001b[0m\n\u001b[1;32m      5\u001b[0m \u001b[0;34m\u001b[0m\u001b[0m\n",
            "\u001b[0;31mFileNotFoundError\u001b[0m: [Errno 2] No such file or directory: 'input.txt'"
          ]
        }
      ]
    },
    {
      "cell_type": "markdown",
      "metadata": {
        "id": "kpBccxmizlxA",
        "colab_type": "text"
      },
      "source": [
        "# Автомобильные номера"
      ]
    },
    {
      "cell_type": "code",
      "metadata": {
        "id": "XySiDNYXxs7O",
        "colab_type": "code",
        "colab": {
          "base_uri": "https://localhost:8080/",
          "height": 161
        },
        "outputId": "9d1fb196-da63-4d67-e639-dcde9ebe1d98"
      },
      "source": [
        "witness_num = int(input())\n",
        "evidence = []\n",
        "for witness in range(witness_num):\n",
        "    ev = input()\n",
        "    evidence.append(set(ev))\n",
        "\n",
        "\n",
        "plates_num = int(input())\n",
        "plates = {}\n",
        "for plate in range(plates_num):\n",
        "    pl = input()\n",
        "    cnt = 0\n",
        "    for ev in evidence:\n",
        "        if ev.intersection(set(pl)) == ev:\n",
        "           cnt += 1\n",
        "    if plates.get(cnt):\n",
        "        plates[cnt].append(pl)\n",
        "    else:\n",
        "        plates[cnt] = [pl]\n",
        "    \n",
        "print('\\n'.join(plates[max(plates.keys())]))\n"
      ],
      "execution_count": 22,
      "outputs": [
        {
          "output_type": "stream",
          "text": [
            "3\n",
            "ABC\n",
            "A37\n",
            "BCDA\n",
            "2\n",
            "A317BD\n",
            "B137AC\n",
            "B137AC\n"
          ],
          "name": "stdout"
        }
      ]
    },
    {
      "cell_type": "markdown",
      "metadata": {
        "id": "MjnnSFZV5kso",
        "colab_type": "text"
      },
      "source": [
        "# Soundex\n"
      ]
    },
    {
      "cell_type": "code",
      "metadata": {
        "id": "f-ebbE1e0YkB",
        "colab_type": "code",
        "colab": {
          "base_uri": "https://localhost:8080/",
          "height": 53
        },
        "outputId": "247e7f19-63dc-4041-80dd-b8ae043affc5"
      },
      "source": [
        "word = input()\n",
        "\n",
        "vowels = ['a', 'e', 'h', 'i', 'o', 'u', 'w', 'y']\n",
        "begin = word[0]\n",
        "rest = word[1:]\n",
        "for vowel in vowels:\n",
        "    rest = rest.replace(vowel, '')\n",
        "sounds = {'b': 1, 'f': 1, 'p': 1, 'v': 1, 'c': 2, 'g': 2, 'j': 2, 'k': 2, \n",
        "         'q': 2, 's': 2, 'x': 2, 'z': 2, 'd': 3, 't': 3, 'l': 4, 'm': 5, \n",
        "          'n': 5, 'r': 6}\n",
        "for sym in rest:\n",
        "    rest = rest.replace(sym, str(sounds[sym]))\n",
        "\n",
        "if len(rest):\n",
        "    rest_no_dups = rest[0]\n",
        "    for num in range(1, len(rest)):\n",
        "        if rest[num] != rest[num - 1]:\n",
        "            rest_no_dups += rest[num]\n",
        "    rest = rest_no_dups\n",
        "\n",
        "    rest = rest[:3]\n",
        "\n",
        "while (len(rest) < 3):\n",
        "    rest += '0'\n",
        "print(begin+rest)"
      ],
      "execution_count": 35,
      "outputs": [
        {
          "output_type": "stream",
          "text": [
            "aeoiou\n",
            "a000\n"
          ],
          "name": "stdout"
        }
      ]
    },
    {
      "cell_type": "markdown",
      "metadata": {
        "id": "xlF2vwHiAH9Y",
        "colab_type": "text"
      },
      "source": [
        "# Cut"
      ]
    },
    {
      "cell_type": "code",
      "metadata": {
        "id": "4b7ZK9lR6XkY",
        "colab_type": "code",
        "colab": {}
      },
      "source": [
        ""
      ],
      "execution_count": 0,
      "outputs": []
    }
  ]
}